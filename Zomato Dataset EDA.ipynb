{
 "cells": [
  {
   "cell_type": "code",
<<<<<<< HEAD
   "execution_count": 3,
=======
   "execution_count": 71,
>>>>>>> 8089eef6997c8711983a2cd9d95bee69680bd6c9
   "id": "85450aa8",
   "metadata": {},
   "outputs": [],
   "source": [
    "import pandas as pd\n",
    "import numpy as np\n",
    "import matplotlib.pyplot as plt\n",
    "import seaborn as sns"
   ]
  },
  {
   "cell_type": "code",
<<<<<<< HEAD
   "execution_count": 4,
=======
   "execution_count": 72,
>>>>>>> 8089eef6997c8711983a2cd9d95bee69680bd6c9
   "id": "c2dc0605",
   "metadata": {},
   "outputs": [
    {
     "data": {
      "text/html": [
       "<div>\n",
       "<style scoped>\n",
       "    .dataframe tbody tr th:only-of-type {\n",
       "        vertical-align: middle;\n",
       "    }\n",
       "\n",
       "    .dataframe tbody tr th {\n",
       "        vertical-align: top;\n",
       "    }\n",
       "\n",
       "    .dataframe thead th {\n",
       "        text-align: right;\n",
       "    }\n",
       "</style>\n",
       "<table border=\"1\" class=\"dataframe\">\n",
       "  <thead>\n",
       "    <tr style=\"text-align: right;\">\n",
       "      <th></th>\n",
       "      <th>Restaurant ID</th>\n",
       "      <th>Restaurant Name</th>\n",
       "      <th>Country Code</th>\n",
       "      <th>City</th>\n",
       "      <th>Address</th>\n",
       "      <th>Locality</th>\n",
       "      <th>Locality Verbose</th>\n",
       "      <th>Longitude</th>\n",
       "      <th>Latitude</th>\n",
       "      <th>Cuisines</th>\n",
       "      <th>...</th>\n",
       "      <th>Currency</th>\n",
       "      <th>Has Table booking</th>\n",
       "      <th>Has Online delivery</th>\n",
       "      <th>Is delivering now</th>\n",
       "      <th>Switch to order menu</th>\n",
       "      <th>Price range</th>\n",
       "      <th>Aggregate rating</th>\n",
       "      <th>Rating color</th>\n",
       "      <th>Rating text</th>\n",
       "      <th>Votes</th>\n",
       "    </tr>\n",
       "  </thead>\n",
       "  <tbody>\n",
       "    <tr>\n",
       "      <th>0</th>\n",
       "      <td>6317637</td>\n",
       "      <td>Le Petit Souffle</td>\n",
       "      <td>162</td>\n",
       "      <td>Makati City</td>\n",
       "      <td>Third Floor, Century City Mall, Kalayaan Avenu...</td>\n",
       "      <td>Century City Mall, Poblacion, Makati City</td>\n",
       "      <td>Century City Mall, Poblacion, Makati City, Mak...</td>\n",
       "      <td>121.027535</td>\n",
       "      <td>14.565443</td>\n",
       "      <td>French, Japanese, Desserts</td>\n",
       "      <td>...</td>\n",
       "      <td>Botswana Pula(P)</td>\n",
       "      <td>Yes</td>\n",
       "      <td>No</td>\n",
       "      <td>No</td>\n",
       "      <td>No</td>\n",
       "      <td>3</td>\n",
       "      <td>4.8</td>\n",
       "      <td>Dark Green</td>\n",
       "      <td>Excellent</td>\n",
       "      <td>314</td>\n",
       "    </tr>\n",
       "    <tr>\n",
       "      <th>1</th>\n",
       "      <td>6304287</td>\n",
       "      <td>Izakaya Kikufuji</td>\n",
       "      <td>162</td>\n",
       "      <td>Makati City</td>\n",
       "      <td>Little Tokyo, 2277 Chino Roces Avenue, Legaspi...</td>\n",
       "      <td>Little Tokyo, Legaspi Village, Makati City</td>\n",
       "      <td>Little Tokyo, Legaspi Village, Makati City, Ma...</td>\n",
       "      <td>121.014101</td>\n",
       "      <td>14.553708</td>\n",
       "      <td>Japanese</td>\n",
       "      <td>...</td>\n",
       "      <td>Botswana Pula(P)</td>\n",
       "      <td>Yes</td>\n",
       "      <td>No</td>\n",
       "      <td>No</td>\n",
       "      <td>No</td>\n",
       "      <td>3</td>\n",
       "      <td>4.5</td>\n",
       "      <td>Dark Green</td>\n",
       "      <td>Excellent</td>\n",
       "      <td>591</td>\n",
       "    </tr>\n",
       "    <tr>\n",
       "      <th>2</th>\n",
       "      <td>6300002</td>\n",
       "      <td>Heat - Edsa Shangri-La</td>\n",
       "      <td>162</td>\n",
       "      <td>Mandaluyong City</td>\n",
       "      <td>Edsa Shangri-La, 1 Garden Way, Ortigas, Mandal...</td>\n",
       "      <td>Edsa Shangri-La, Ortigas, Mandaluyong City</td>\n",
       "      <td>Edsa Shangri-La, Ortigas, Mandaluyong City, Ma...</td>\n",
       "      <td>121.056831</td>\n",
       "      <td>14.581404</td>\n",
       "      <td>Seafood, Asian, Filipino, Indian</td>\n",
       "      <td>...</td>\n",
       "      <td>Botswana Pula(P)</td>\n",
       "      <td>Yes</td>\n",
       "      <td>No</td>\n",
       "      <td>No</td>\n",
       "      <td>No</td>\n",
       "      <td>4</td>\n",
       "      <td>4.4</td>\n",
       "      <td>Green</td>\n",
       "      <td>Very Good</td>\n",
       "      <td>270</td>\n",
       "    </tr>\n",
       "    <tr>\n",
       "      <th>3</th>\n",
       "      <td>6318506</td>\n",
       "      <td>Ooma</td>\n",
       "      <td>162</td>\n",
       "      <td>Mandaluyong City</td>\n",
       "      <td>Third Floor, Mega Fashion Hall, SM Megamall, O...</td>\n",
       "      <td>SM Megamall, Ortigas, Mandaluyong City</td>\n",
       "      <td>SM Megamall, Ortigas, Mandaluyong City, Mandal...</td>\n",
       "      <td>121.056475</td>\n",
       "      <td>14.585318</td>\n",
       "      <td>Japanese, Sushi</td>\n",
       "      <td>...</td>\n",
       "      <td>Botswana Pula(P)</td>\n",
       "      <td>No</td>\n",
       "      <td>No</td>\n",
       "      <td>No</td>\n",
       "      <td>No</td>\n",
       "      <td>4</td>\n",
       "      <td>4.9</td>\n",
       "      <td>Dark Green</td>\n",
       "      <td>Excellent</td>\n",
       "      <td>365</td>\n",
       "    </tr>\n",
       "    <tr>\n",
       "      <th>4</th>\n",
       "      <td>6314302</td>\n",
       "      <td>Sambo Kojin</td>\n",
       "      <td>162</td>\n",
       "      <td>Mandaluyong City</td>\n",
       "      <td>Third Floor, Mega Atrium, SM Megamall, Ortigas...</td>\n",
       "      <td>SM Megamall, Ortigas, Mandaluyong City</td>\n",
       "      <td>SM Megamall, Ortigas, Mandaluyong City, Mandal...</td>\n",
       "      <td>121.057508</td>\n",
       "      <td>14.584450</td>\n",
       "      <td>Japanese, Korean</td>\n",
       "      <td>...</td>\n",
       "      <td>Botswana Pula(P)</td>\n",
       "      <td>Yes</td>\n",
       "      <td>No</td>\n",
       "      <td>No</td>\n",
       "      <td>No</td>\n",
       "      <td>4</td>\n",
       "      <td>4.8</td>\n",
       "      <td>Dark Green</td>\n",
       "      <td>Excellent</td>\n",
       "      <td>229</td>\n",
       "    </tr>\n",
       "  </tbody>\n",
       "</table>\n",
       "<p>5 rows × 21 columns</p>\n",
       "</div>"
      ],
      "text/plain": [
       "   Restaurant ID         Restaurant Name  Country Code              City  \\\n",
       "0        6317637        Le Petit Souffle           162       Makati City   \n",
       "1        6304287        Izakaya Kikufuji           162       Makati City   \n",
       "2        6300002  Heat - Edsa Shangri-La           162  Mandaluyong City   \n",
       "3        6318506                    Ooma           162  Mandaluyong City   \n",
       "4        6314302             Sambo Kojin           162  Mandaluyong City   \n",
       "\n",
       "                                             Address  \\\n",
       "0  Third Floor, Century City Mall, Kalayaan Avenu...   \n",
       "1  Little Tokyo, 2277 Chino Roces Avenue, Legaspi...   \n",
       "2  Edsa Shangri-La, 1 Garden Way, Ortigas, Mandal...   \n",
       "3  Third Floor, Mega Fashion Hall, SM Megamall, O...   \n",
       "4  Third Floor, Mega Atrium, SM Megamall, Ortigas...   \n",
       "\n",
       "                                     Locality  \\\n",
       "0   Century City Mall, Poblacion, Makati City   \n",
       "1  Little Tokyo, Legaspi Village, Makati City   \n",
       "2  Edsa Shangri-La, Ortigas, Mandaluyong City   \n",
       "3      SM Megamall, Ortigas, Mandaluyong City   \n",
       "4      SM Megamall, Ortigas, Mandaluyong City   \n",
       "\n",
       "                                    Locality Verbose   Longitude   Latitude  \\\n",
       "0  Century City Mall, Poblacion, Makati City, Mak...  121.027535  14.565443   \n",
       "1  Little Tokyo, Legaspi Village, Makati City, Ma...  121.014101  14.553708   \n",
       "2  Edsa Shangri-La, Ortigas, Mandaluyong City, Ma...  121.056831  14.581404   \n",
       "3  SM Megamall, Ortigas, Mandaluyong City, Mandal...  121.056475  14.585318   \n",
       "4  SM Megamall, Ortigas, Mandaluyong City, Mandal...  121.057508  14.584450   \n",
       "\n",
       "                           Cuisines  ...          Currency Has Table booking  \\\n",
       "0        French, Japanese, Desserts  ...  Botswana Pula(P)               Yes   \n",
       "1                          Japanese  ...  Botswana Pula(P)               Yes   \n",
       "2  Seafood, Asian, Filipino, Indian  ...  Botswana Pula(P)               Yes   \n",
       "3                   Japanese, Sushi  ...  Botswana Pula(P)                No   \n",
       "4                  Japanese, Korean  ...  Botswana Pula(P)               Yes   \n",
       "\n",
       "  Has Online delivery Is delivering now Switch to order menu Price range  \\\n",
       "0                  No                No                   No           3   \n",
       "1                  No                No                   No           3   \n",
       "2                  No                No                   No           4   \n",
       "3                  No                No                   No           4   \n",
       "4                  No                No                   No           4   \n",
       "\n",
       "   Aggregate rating  Rating color Rating text Votes  \n",
       "0               4.8    Dark Green   Excellent   314  \n",
       "1               4.5    Dark Green   Excellent   591  \n",
       "2               4.4         Green   Very Good   270  \n",
       "3               4.9    Dark Green   Excellent   365  \n",
       "4               4.8    Dark Green   Excellent   229  \n",
       "\n",
       "[5 rows x 21 columns]"
      ]
     },
<<<<<<< HEAD
     "execution_count": 4,
=======
     "execution_count": 72,
>>>>>>> 8089eef6997c8711983a2cd9d95bee69680bd6c9
     "metadata": {},
     "output_type": "execute_result"
    }
   ],
   "source": [
    "df = pd.read_csv('zomato.csv', encoding = 'latin-1')\n",
    "df.head()"
   ]
  },
  {
   "cell_type": "code",
   "execution_count": 73,
   "id": "9aca67ec",
   "metadata": {},
   "outputs": [
    {
     "data": {
      "text/plain": [
       "Index(['Restaurant ID', 'Restaurant Name', 'Country Code', 'City', 'Address',\n",
       "       'Locality', 'Locality Verbose', 'Longitude', 'Latitude', 'Cuisines',\n",
       "       'Average Cost for two', 'Currency', 'Has Table booking',\n",
       "       'Has Online delivery', 'Is delivering now', 'Switch to order menu',\n",
       "       'Price range', 'Aggregate rating', 'Rating color', 'Rating text',\n",
       "       'Votes'],\n",
       "      dtype='object')"
      ]
     },
     "execution_count": 73,
     "metadata": {},
     "output_type": "execute_result"
    }
   ],
   "source": [
    "df.columns"
   ]
  },
  {
   "cell_type": "code",
   "execution_count": 74,
   "id": "c60b3a56",
   "metadata": {},
   "outputs": [
    {
     "name": "stdout",
     "output_type": "stream",
     "text": [
      "<class 'pandas.core.frame.DataFrame'>\n",
      "RangeIndex: 9551 entries, 0 to 9550\n",
      "Data columns (total 21 columns):\n",
      " #   Column                Non-Null Count  Dtype  \n",
      "---  ------                --------------  -----  \n",
      " 0   Restaurant ID         9551 non-null   int64  \n",
      " 1   Restaurant Name       9551 non-null   object \n",
      " 2   Country Code          9551 non-null   int64  \n",
      " 3   City                  9551 non-null   object \n",
      " 4   Address               9551 non-null   object \n",
      " 5   Locality              9551 non-null   object \n",
      " 6   Locality Verbose      9551 non-null   object \n",
      " 7   Longitude             9551 non-null   float64\n",
      " 8   Latitude              9551 non-null   float64\n",
      " 9   Cuisines              9542 non-null   object \n",
      " 10  Average Cost for two  9551 non-null   int64  \n",
      " 11  Currency              9551 non-null   object \n",
      " 12  Has Table booking     9551 non-null   object \n",
      " 13  Has Online delivery   9551 non-null   object \n",
      " 14  Is delivering now     9551 non-null   object \n",
      " 15  Switch to order menu  9551 non-null   object \n",
      " 16  Price range           9551 non-null   int64  \n",
      " 17  Aggregate rating      9551 non-null   float64\n",
      " 18  Rating color          9551 non-null   object \n",
      " 19  Rating text           9551 non-null   object \n",
      " 20  Votes                 9551 non-null   int64  \n",
      "dtypes: float64(3), int64(5), object(13)\n",
      "memory usage: 1.5+ MB\n"
     ]
    }
   ],
   "source": [
    "df.info()"
   ]
  },
  {
   "cell_type": "code",
<<<<<<< HEAD
   "execution_count": 5,
=======
   "execution_count": 75,
>>>>>>> 8089eef6997c8711983a2cd9d95bee69680bd6c9
   "id": "41bd3aaf",
   "metadata": {},
   "outputs": [
    {
     "data": {
      "text/html": [
       "<div>\n",
       "<style scoped>\n",
       "    .dataframe tbody tr th:only-of-type {\n",
       "        vertical-align: middle;\n",
       "    }\n",
       "\n",
       "    .dataframe tbody tr th {\n",
       "        vertical-align: top;\n",
       "    }\n",
       "\n",
       "    .dataframe thead th {\n",
       "        text-align: right;\n",
       "    }\n",
       "</style>\n",
       "<table border=\"1\" class=\"dataframe\">\n",
       "  <thead>\n",
       "    <tr style=\"text-align: right;\">\n",
       "      <th></th>\n",
       "      <th>Restaurant Name</th>\n",
       "      <th>City</th>\n",
       "      <th>Address</th>\n",
       "      <th>Locality</th>\n",
       "      <th>Locality Verbose</th>\n",
       "      <th>Cuisines</th>\n",
       "      <th>Currency</th>\n",
       "      <th>Has Table booking</th>\n",
       "      <th>Has Online delivery</th>\n",
       "      <th>Is delivering now</th>\n",
       "      <th>Switch to order menu</th>\n",
       "      <th>Rating color</th>\n",
       "      <th>Rating text</th>\n",
       "    </tr>\n",
       "  </thead>\n",
       "  <tbody>\n",
       "    <tr>\n",
       "      <th>count</th>\n",
       "      <td>9551</td>\n",
       "      <td>9551</td>\n",
       "      <td>9551</td>\n",
       "      <td>9551</td>\n",
       "      <td>9551</td>\n",
       "      <td>9542</td>\n",
       "      <td>9551</td>\n",
       "      <td>9551</td>\n",
       "      <td>9551</td>\n",
       "      <td>9551</td>\n",
       "      <td>9551</td>\n",
       "      <td>9551</td>\n",
       "      <td>9551</td>\n",
       "    </tr>\n",
       "    <tr>\n",
       "      <th>unique</th>\n",
       "      <td>7446</td>\n",
       "      <td>141</td>\n",
       "      <td>8918</td>\n",
       "      <td>1208</td>\n",
       "      <td>1265</td>\n",
       "      <td>1825</td>\n",
       "      <td>12</td>\n",
       "      <td>2</td>\n",
       "      <td>2</td>\n",
       "      <td>2</td>\n",
       "      <td>1</td>\n",
       "      <td>6</td>\n",
       "      <td>6</td>\n",
       "    </tr>\n",
       "    <tr>\n",
       "      <th>top</th>\n",
       "      <td>Cafe Coffee Day</td>\n",
       "      <td>New Delhi</td>\n",
       "      <td>Dilli Haat, INA, New Delhi</td>\n",
       "      <td>Connaught Place</td>\n",
       "      <td>Connaught Place, New Delhi</td>\n",
       "      <td>North Indian</td>\n",
       "      <td>Indian Rupees(Rs.)</td>\n",
       "      <td>No</td>\n",
       "      <td>No</td>\n",
       "      <td>No</td>\n",
       "      <td>No</td>\n",
       "      <td>Orange</td>\n",
       "      <td>Average</td>\n",
       "    </tr>\n",
       "    <tr>\n",
       "      <th>freq</th>\n",
       "      <td>83</td>\n",
       "      <td>5473</td>\n",
       "      <td>11</td>\n",
       "      <td>122</td>\n",
       "      <td>122</td>\n",
       "      <td>936</td>\n",
       "      <td>8652</td>\n",
       "      <td>8393</td>\n",
       "      <td>7100</td>\n",
       "      <td>9517</td>\n",
       "      <td>9551</td>\n",
       "      <td>3737</td>\n",
       "      <td>3737</td>\n",
       "    </tr>\n",
       "  </tbody>\n",
       "</table>\n",
       "</div>"
      ],
      "text/plain": [
       "        Restaurant Name       City                     Address  \\\n",
       "count              9551       9551                        9551   \n",
       "unique             7446        141                        8918   \n",
       "top     Cafe Coffee Day  New Delhi  Dilli Haat, INA, New Delhi   \n",
       "freq                 83       5473                          11   \n",
       "\n",
       "               Locality            Locality Verbose      Cuisines  \\\n",
       "count              9551                        9551          9542   \n",
       "unique             1208                        1265          1825   \n",
       "top     Connaught Place  Connaught Place, New Delhi  North Indian   \n",
       "freq                122                         122           936   \n",
       "\n",
       "                  Currency Has Table booking Has Online delivery  \\\n",
       "count                 9551              9551                9551   \n",
       "unique                  12                 2                   2   \n",
       "top     Indian Rupees(Rs.)                No                  No   \n",
       "freq                  8652              8393                7100   \n",
       "\n",
       "       Is delivering now Switch to order menu Rating color Rating text  \n",
       "count               9551                 9551         9551        9551  \n",
       "unique                 2                    1            6           6  \n",
       "top                   No                   No       Orange     Average  \n",
       "freq                9517                 9551         3737        3737  "
      ]
     },
<<<<<<< HEAD
     "execution_count": 5,
=======
     "execution_count": 75,
>>>>>>> 8089eef6997c8711983a2cd9d95bee69680bd6c9
     "metadata": {},
     "output_type": "execute_result"
    }
   ],
   "source": [
    "df.describe(include = 'object')"
   ]
  },
  {
   "cell_type": "code",
<<<<<<< HEAD
   "execution_count": 6,
=======
   "execution_count": 76,
>>>>>>> 8089eef6997c8711983a2cd9d95bee69680bd6c9
   "id": "b13b01e8",
   "metadata": {},
   "outputs": [
    {
     "data": {
      "text/html": [
       "<div>\n",
       "<style scoped>\n",
       "    .dataframe tbody tr th:only-of-type {\n",
       "        vertical-align: middle;\n",
       "    }\n",
       "\n",
       "    .dataframe tbody tr th {\n",
       "        vertical-align: top;\n",
       "    }\n",
       "\n",
       "    .dataframe thead th {\n",
       "        text-align: right;\n",
       "    }\n",
       "</style>\n",
       "<table border=\"1\" class=\"dataframe\">\n",
       "  <thead>\n",
       "    <tr style=\"text-align: right;\">\n",
       "      <th></th>\n",
       "      <th>Restaurant ID</th>\n",
       "      <th>Country Code</th>\n",
       "      <th>Longitude</th>\n",
       "      <th>Latitude</th>\n",
       "      <th>Average Cost for two</th>\n",
       "      <th>Price range</th>\n",
       "      <th>Aggregate rating</th>\n",
       "      <th>Votes</th>\n",
       "    </tr>\n",
       "  </thead>\n",
       "  <tbody>\n",
       "    <tr>\n",
       "      <th>count</th>\n",
       "      <td>9.551000e+03</td>\n",
       "      <td>9551.000000</td>\n",
       "      <td>9551.000000</td>\n",
       "      <td>9551.000000</td>\n",
       "      <td>9551.000000</td>\n",
       "      <td>9551.000000</td>\n",
       "      <td>9551.000000</td>\n",
       "      <td>9551.000000</td>\n",
       "    </tr>\n",
       "    <tr>\n",
       "      <th>mean</th>\n",
       "      <td>9.051128e+06</td>\n",
       "      <td>18.365616</td>\n",
       "      <td>64.126574</td>\n",
       "      <td>25.854381</td>\n",
       "      <td>1199.210763</td>\n",
       "      <td>1.804837</td>\n",
       "      <td>2.666370</td>\n",
       "      <td>156.909748</td>\n",
       "    </tr>\n",
       "    <tr>\n",
       "      <th>std</th>\n",
       "      <td>8.791521e+06</td>\n",
       "      <td>56.750546</td>\n",
       "      <td>41.467058</td>\n",
       "      <td>11.007935</td>\n",
       "      <td>16121.183073</td>\n",
       "      <td>0.905609</td>\n",
       "      <td>1.516378</td>\n",
       "      <td>430.169145</td>\n",
       "    </tr>\n",
       "    <tr>\n",
       "      <th>min</th>\n",
       "      <td>5.300000e+01</td>\n",
       "      <td>1.000000</td>\n",
       "      <td>-157.948486</td>\n",
       "      <td>-41.330428</td>\n",
       "      <td>0.000000</td>\n",
       "      <td>1.000000</td>\n",
       "      <td>0.000000</td>\n",
       "      <td>0.000000</td>\n",
       "    </tr>\n",
       "    <tr>\n",
       "      <th>25%</th>\n",
       "      <td>3.019625e+05</td>\n",
       "      <td>1.000000</td>\n",
       "      <td>77.081343</td>\n",
       "      <td>28.478713</td>\n",
       "      <td>250.000000</td>\n",
       "      <td>1.000000</td>\n",
       "      <td>2.500000</td>\n",
       "      <td>5.000000</td>\n",
       "    </tr>\n",
       "    <tr>\n",
       "      <th>50%</th>\n",
       "      <td>6.004089e+06</td>\n",
       "      <td>1.000000</td>\n",
       "      <td>77.191964</td>\n",
       "      <td>28.570469</td>\n",
       "      <td>400.000000</td>\n",
       "      <td>2.000000</td>\n",
       "      <td>3.200000</td>\n",
       "      <td>31.000000</td>\n",
       "    </tr>\n",
       "    <tr>\n",
       "      <th>75%</th>\n",
       "      <td>1.835229e+07</td>\n",
       "      <td>1.000000</td>\n",
       "      <td>77.282006</td>\n",
       "      <td>28.642758</td>\n",
       "      <td>700.000000</td>\n",
       "      <td>2.000000</td>\n",
       "      <td>3.700000</td>\n",
       "      <td>131.000000</td>\n",
       "    </tr>\n",
       "    <tr>\n",
       "      <th>max</th>\n",
       "      <td>1.850065e+07</td>\n",
       "      <td>216.000000</td>\n",
       "      <td>174.832089</td>\n",
       "      <td>55.976980</td>\n",
       "      <td>800000.000000</td>\n",
       "      <td>4.000000</td>\n",
       "      <td>4.900000</td>\n",
       "      <td>10934.000000</td>\n",
       "    </tr>\n",
       "  </tbody>\n",
       "</table>\n",
       "</div>"
      ],
      "text/plain": [
       "       Restaurant ID  Country Code    Longitude     Latitude  \\\n",
       "count   9.551000e+03   9551.000000  9551.000000  9551.000000   \n",
       "mean    9.051128e+06     18.365616    64.126574    25.854381   \n",
       "std     8.791521e+06     56.750546    41.467058    11.007935   \n",
       "min     5.300000e+01      1.000000  -157.948486   -41.330428   \n",
       "25%     3.019625e+05      1.000000    77.081343    28.478713   \n",
       "50%     6.004089e+06      1.000000    77.191964    28.570469   \n",
       "75%     1.835229e+07      1.000000    77.282006    28.642758   \n",
       "max     1.850065e+07    216.000000   174.832089    55.976980   \n",
       "\n",
       "       Average Cost for two  Price range  Aggregate rating         Votes  \n",
       "count           9551.000000  9551.000000       9551.000000   9551.000000  \n",
       "mean            1199.210763     1.804837          2.666370    156.909748  \n",
       "std            16121.183073     0.905609          1.516378    430.169145  \n",
       "min                0.000000     1.000000          0.000000      0.000000  \n",
       "25%              250.000000     1.000000          2.500000      5.000000  \n",
       "50%              400.000000     2.000000          3.200000     31.000000  \n",
       "75%              700.000000     2.000000          3.700000    131.000000  \n",
       "max           800000.000000     4.000000          4.900000  10934.000000  "
      ]
     },
<<<<<<< HEAD
     "execution_count": 6,
=======
     "execution_count": 76,
>>>>>>> 8089eef6997c8711983a2cd9d95bee69680bd6c9
     "metadata": {},
     "output_type": "execute_result"
    }
   ],
   "source": [
    "df.describe()"
   ]
  },
  {
   "cell_type": "markdown",
   "id": "be8a88f3",
   "metadata": {},
   "source": [
    "# In data analysis what all things we do\n",
    "1. Missing Values\n",
    "2. Explore about the numerical variables\n",
    "3. Explore about the catagorical variables\n",
    "4. Finding relationship between features."
   ]
  },
  {
   "cell_type": "code",
   "execution_count": 77,
   "id": "6f8df4aa",
   "metadata": {},
   "outputs": [
    {
     "data": {
      "text/plain": [
       "Restaurant ID           0\n",
       "Restaurant Name         0\n",
       "Country Code            0\n",
       "City                    0\n",
       "Address                 0\n",
       "Locality                0\n",
       "Locality Verbose        0\n",
       "Longitude               0\n",
       "Latitude                0\n",
       "Cuisines                9\n",
       "Average Cost for two    0\n",
       "Currency                0\n",
       "Has Table booking       0\n",
       "Has Online delivery     0\n",
       "Is delivering now       0\n",
       "Switch to order menu    0\n",
       "Price range             0\n",
       "Aggregate rating        0\n",
       "Rating color            0\n",
       "Rating text             0\n",
       "Votes                   0\n",
       "dtype: int64"
      ]
     },
     "execution_count": 77,
     "metadata": {},
     "output_type": "execute_result"
    }
   ],
   "source": [
    "df.isnull().sum()"
   ]
  },
  {
   "cell_type": "code",
   "execution_count": 78,
   "id": "77a45872",
   "metadata": {
    "scrolled": true
   },
   "outputs": [
    {
     "data": {
      "text/plain": [
       "North Indian                                             936\n",
       "North Indian, Chinese                                    511\n",
       "Chinese                                                  354\n",
       "Fast Food                                                354\n",
       "North Indian, Mughlai                                    334\n",
       "                                                        ... \n",
       "Bengali, Fast Food                                         1\n",
       "North Indian, Rajasthani, Asian                            1\n",
       "Chinese, Thai, Malaysian, Indonesian                       1\n",
       "Bakery, Desserts, North Indian, Bengali, South Indian      1\n",
       "Italian, World Cuisine                                     1\n",
       "Name: Cuisines, Length: 1825, dtype: int64"
      ]
     },
     "execution_count": 78,
     "metadata": {},
     "output_type": "execute_result"
    }
   ],
   "source": [
    "df['Cuisines'].value_counts()"
   ]
  },
  {
   "cell_type": "code",
   "execution_count": 114,
   "id": "a23a233e",
   "metadata": {},
   "outputs": [
    {
     "data": {
      "text/plain": [
       "9"
      ]
     },
     "execution_count": 114,
     "metadata": {},
     "output_type": "execute_result"
    }
   ],
   "source": [
    "df['Cuisines'].isnull().sum()"
   ]
  },
  {
   "cell_type": "code",
   "execution_count": 79,
   "id": "83a90329",
   "metadata": {},
   "outputs": [
    {
     "data": {
      "text/plain": [
       "<bound method IndexOpsMixin.nunique of 0             French, Japanese, Desserts\n",
       "1                               Japanese\n",
       "2       Seafood, Asian, Filipino, Indian\n",
       "3                        Japanese, Sushi\n",
       "4                       Japanese, Korean\n",
       "                      ...               \n",
       "9546                             Turkish\n",
       "9547     World Cuisine, Patisserie, Cafe\n",
       "9548              Italian, World Cuisine\n",
       "9549                     Restaurant Cafe\n",
       "9550                                Cafe\n",
       "Name: Cuisines, Length: 9551, dtype: object>"
      ]
     },
     "execution_count": 79,
     "metadata": {},
     "output_type": "execute_result"
    }
   ],
   "source": [
    "df['Cuisines'].nunique"
   ]
  },
  {
   "cell_type": "code",
<<<<<<< HEAD
   "execution_count": 7,
=======
   "execution_count": 80,
>>>>>>> 8089eef6997c8711983a2cd9d95bee69680bd6c9
   "id": "6115a041",
   "metadata": {},
   "outputs": [
    {
     "name": "stdout",
     "output_type": "stream",
     "text": [
      "Column 'Cuisines' has 9 missing values.\n"
     ]
    }
   ],
   "source": [
    "for feature in df.columns:\n",
    "    if df[feature].isnull().sum() > 0:\n",
    "        # Do something here, like imputing missing values or printing the column name\n",
    "        print(f\"Column '{feature}' has {df[feature].isnull().sum()} missing values.\")\n"
   ]
  },
  {
   "cell_type": "code",
<<<<<<< HEAD
   "execution_count": 8,
=======
   "execution_count": 119,
>>>>>>> 8089eef6997c8711983a2cd9d95bee69680bd6c9
   "id": "8f2881b4",
   "metadata": {},
   "outputs": [
    {
     "data": {
      "text/plain": [
<<<<<<< HEAD
       "<Axes: >"
      ]
     },
     "execution_count": 8,
=======
       "<AxesSubplot:>"
      ]
     },
     "execution_count": 119,
>>>>>>> 8089eef6997c8711983a2cd9d95bee69680bd6c9
     "metadata": {},
     "output_type": "execute_result"
    },
    {
     "data": {
<<<<<<< HEAD
      "image/png": "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",
=======
      "image/png": "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\n",
>>>>>>> 8089eef6997c8711983a2cd9d95bee69680bd6c9
      "text/plain": [
       "<Figure size 1500x500 with 1 Axes>"
      ]
     },
     "metadata": {},
     "output_type": "display_data"
    }
   ],
   "source": [
    "plt.figure(figsize=(15,5))\n",
    "sns.heatmap(df.isnull(), yticklabels= False, cbar = False, cmap = 'viridis')"
   ]
  },
  {
   "cell_type": "code",
<<<<<<< HEAD
   "execution_count": 9,
=======
   "execution_count": 82,
>>>>>>> 8089eef6997c8711983a2cd9d95bee69680bd6c9
   "id": "386e6f4f",
   "metadata": {},
   "outputs": [
    {
     "data": {
      "text/html": [
       "<div>\n",
       "<style scoped>\n",
       "    .dataframe tbody tr th:only-of-type {\n",
       "        vertical-align: middle;\n",
       "    }\n",
       "\n",
       "    .dataframe tbody tr th {\n",
       "        vertical-align: top;\n",
       "    }\n",
       "\n",
       "    .dataframe thead th {\n",
       "        text-align: right;\n",
       "    }\n",
       "</style>\n",
       "<table border=\"1\" class=\"dataframe\">\n",
       "  <thead>\n",
       "    <tr style=\"text-align: right;\">\n",
       "      <th></th>\n",
       "      <th>Country Code</th>\n",
       "      <th>Country</th>\n",
       "    </tr>\n",
       "  </thead>\n",
       "  <tbody>\n",
       "    <tr>\n",
       "      <th>0</th>\n",
       "      <td>1</td>\n",
       "      <td>India</td>\n",
       "    </tr>\n",
       "    <tr>\n",
       "      <th>1</th>\n",
       "      <td>14</td>\n",
       "      <td>Australia</td>\n",
       "    </tr>\n",
       "    <tr>\n",
       "      <th>2</th>\n",
       "      <td>30</td>\n",
       "      <td>Brazil</td>\n",
       "    </tr>\n",
       "    <tr>\n",
       "      <th>3</th>\n",
       "      <td>37</td>\n",
       "      <td>Canada</td>\n",
       "    </tr>\n",
       "    <tr>\n",
       "      <th>4</th>\n",
       "      <td>94</td>\n",
       "      <td>Indonesia</td>\n",
       "    </tr>\n",
       "    <tr>\n",
       "      <th>5</th>\n",
       "      <td>148</td>\n",
       "      <td>New Zealand</td>\n",
       "    </tr>\n",
       "    <tr>\n",
       "      <th>6</th>\n",
       "      <td>162</td>\n",
       "      <td>Phillipines</td>\n",
       "    </tr>\n",
       "    <tr>\n",
       "      <th>7</th>\n",
       "      <td>166</td>\n",
       "      <td>Qatar</td>\n",
       "    </tr>\n",
       "    <tr>\n",
       "      <th>8</th>\n",
       "      <td>184</td>\n",
       "      <td>Singapore</td>\n",
       "    </tr>\n",
       "    <tr>\n",
       "      <th>9</th>\n",
       "      <td>189</td>\n",
       "      <td>South Africa</td>\n",
       "    </tr>\n",
       "    <tr>\n",
       "      <th>10</th>\n",
       "      <td>191</td>\n",
       "      <td>Sri Lanka</td>\n",
       "    </tr>\n",
       "    <tr>\n",
       "      <th>11</th>\n",
       "      <td>208</td>\n",
       "      <td>Turkey</td>\n",
       "    </tr>\n",
       "    <tr>\n",
       "      <th>12</th>\n",
       "      <td>214</td>\n",
       "      <td>UAE</td>\n",
       "    </tr>\n",
       "    <tr>\n",
       "      <th>13</th>\n",
       "      <td>215</td>\n",
       "      <td>United Kingdom</td>\n",
       "    </tr>\n",
       "    <tr>\n",
       "      <th>14</th>\n",
       "      <td>216</td>\n",
       "      <td>United States</td>\n",
       "    </tr>\n",
       "  </tbody>\n",
       "</table>\n",
       "</div>"
      ],
      "text/plain": [
       "    Country Code         Country\n",
       "0              1           India\n",
       "1             14       Australia\n",
       "2             30          Brazil\n",
       "3             37          Canada\n",
       "4             94       Indonesia\n",
       "5            148     New Zealand\n",
       "6            162     Phillipines\n",
       "7            166           Qatar\n",
       "8            184       Singapore\n",
       "9            189    South Africa\n",
       "10           191       Sri Lanka\n",
       "11           208          Turkey\n",
       "12           214             UAE\n",
       "13           215  United Kingdom\n",
       "14           216   United States"
      ]
     },
<<<<<<< HEAD
     "execution_count": 9,
=======
     "execution_count": 82,
>>>>>>> 8089eef6997c8711983a2cd9d95bee69680bd6c9
     "metadata": {},
     "output_type": "execute_result"
    }
   ],
   "source": [
    "df_country = pd.read_excel('Country-Code.xlsx')\n",
    "df_country"
   ]
  },
  {
   "cell_type": "code",
<<<<<<< HEAD
   "execution_count": 10,
=======
   "execution_count": 83,
>>>>>>> 8089eef6997c8711983a2cd9d95bee69680bd6c9
   "id": "ebc10922",
   "metadata": {},
   "outputs": [
    {
     "data": {
      "text/plain": [
       "Index(['Restaurant ID', 'Restaurant Name', 'Country Code', 'City', 'Address',\n",
       "       'Locality', 'Locality Verbose', 'Longitude', 'Latitude', 'Cuisines',\n",
       "       'Average Cost for two', 'Currency', 'Has Table booking',\n",
       "       'Has Online delivery', 'Is delivering now', 'Switch to order menu',\n",
       "       'Price range', 'Aggregate rating', 'Rating color', 'Rating text',\n",
       "       'Votes'],\n",
       "      dtype='object')"
      ]
     },
<<<<<<< HEAD
     "execution_count": 10,
=======
     "execution_count": 83,
>>>>>>> 8089eef6997c8711983a2cd9d95bee69680bd6c9
     "metadata": {},
     "output_type": "execute_result"
    }
   ],
   "source": [
    "df.columns"
   ]
  },
  {
   "cell_type": "code",
<<<<<<< HEAD
   "execution_count": 11,
=======
   "execution_count": 84,
>>>>>>> 8089eef6997c8711983a2cd9d95bee69680bd6c9
   "id": "62766c3f",
   "metadata": {},
   "outputs": [],
   "source": [
    "final_df = pd.merge(df,df_country,on = 'Country Code', how = 'left')"
   ]
  },
  {
   "cell_type": "code",
<<<<<<< HEAD
   "execution_count": 12,
=======
   "execution_count": 85,
>>>>>>> 8089eef6997c8711983a2cd9d95bee69680bd6c9
   "id": "d8463fac",
   "metadata": {},
   "outputs": [
    {
     "data": {
      "text/html": [
       "<div>\n",
       "<style scoped>\n",
       "    .dataframe tbody tr th:only-of-type {\n",
       "        vertical-align: middle;\n",
       "    }\n",
       "\n",
       "    .dataframe tbody tr th {\n",
       "        vertical-align: top;\n",
       "    }\n",
       "\n",
       "    .dataframe thead th {\n",
       "        text-align: right;\n",
       "    }\n",
       "</style>\n",
       "<table border=\"1\" class=\"dataframe\">\n",
       "  <thead>\n",
       "    <tr style=\"text-align: right;\">\n",
       "      <th></th>\n",
       "      <th>Restaurant ID</th>\n",
       "      <th>Restaurant Name</th>\n",
       "      <th>Country Code</th>\n",
       "      <th>City</th>\n",
       "      <th>Address</th>\n",
       "      <th>Locality</th>\n",
       "      <th>Locality Verbose</th>\n",
       "      <th>Longitude</th>\n",
       "      <th>Latitude</th>\n",
       "      <th>Cuisines</th>\n",
       "      <th>...</th>\n",
       "      <th>Has Table booking</th>\n",
       "      <th>Has Online delivery</th>\n",
       "      <th>Is delivering now</th>\n",
       "      <th>Switch to order menu</th>\n",
       "      <th>Price range</th>\n",
       "      <th>Aggregate rating</th>\n",
       "      <th>Rating color</th>\n",
       "      <th>Rating text</th>\n",
       "      <th>Votes</th>\n",
       "      <th>Country</th>\n",
       "    </tr>\n",
       "  </thead>\n",
       "  <tbody>\n",
       "    <tr>\n",
       "      <th>0</th>\n",
       "      <td>6317637</td>\n",
       "      <td>Le Petit Souffle</td>\n",
       "      <td>162</td>\n",
       "      <td>Makati City</td>\n",
       "      <td>Third Floor, Century City Mall, Kalayaan Avenu...</td>\n",
       "      <td>Century City Mall, Poblacion, Makati City</td>\n",
       "      <td>Century City Mall, Poblacion, Makati City, Mak...</td>\n",
       "      <td>121.027535</td>\n",
       "      <td>14.565443</td>\n",
       "      <td>French, Japanese, Desserts</td>\n",
       "      <td>...</td>\n",
       "      <td>Yes</td>\n",
       "      <td>No</td>\n",
       "      <td>No</td>\n",
       "      <td>No</td>\n",
       "      <td>3</td>\n",
       "      <td>4.8</td>\n",
       "      <td>Dark Green</td>\n",
       "      <td>Excellent</td>\n",
       "      <td>314</td>\n",
       "      <td>Phillipines</td>\n",
       "    </tr>\n",
       "    <tr>\n",
       "      <th>1</th>\n",
       "      <td>6304287</td>\n",
       "      <td>Izakaya Kikufuji</td>\n",
       "      <td>162</td>\n",
       "      <td>Makati City</td>\n",
       "      <td>Little Tokyo, 2277 Chino Roces Avenue, Legaspi...</td>\n",
       "      <td>Little Tokyo, Legaspi Village, Makati City</td>\n",
       "      <td>Little Tokyo, Legaspi Village, Makati City, Ma...</td>\n",
       "      <td>121.014101</td>\n",
       "      <td>14.553708</td>\n",
       "      <td>Japanese</td>\n",
       "      <td>...</td>\n",
       "      <td>Yes</td>\n",
       "      <td>No</td>\n",
       "      <td>No</td>\n",
       "      <td>No</td>\n",
       "      <td>3</td>\n",
       "      <td>4.5</td>\n",
       "      <td>Dark Green</td>\n",
       "      <td>Excellent</td>\n",
       "      <td>591</td>\n",
       "      <td>Phillipines</td>\n",
       "    </tr>\n",
       "  </tbody>\n",
       "</table>\n",
       "<p>2 rows × 22 columns</p>\n",
       "</div>"
      ],
      "text/plain": [
       "   Restaurant ID   Restaurant Name  Country Code         City  \\\n",
       "0        6317637  Le Petit Souffle           162  Makati City   \n",
       "1        6304287  Izakaya Kikufuji           162  Makati City   \n",
       "\n",
       "                                             Address  \\\n",
       "0  Third Floor, Century City Mall, Kalayaan Avenu...   \n",
       "1  Little Tokyo, 2277 Chino Roces Avenue, Legaspi...   \n",
       "\n",
       "                                     Locality  \\\n",
       "0   Century City Mall, Poblacion, Makati City   \n",
       "1  Little Tokyo, Legaspi Village, Makati City   \n",
       "\n",
       "                                    Locality Verbose   Longitude   Latitude  \\\n",
       "0  Century City Mall, Poblacion, Makati City, Mak...  121.027535  14.565443   \n",
       "1  Little Tokyo, Legaspi Village, Makati City, Ma...  121.014101  14.553708   \n",
       "\n",
       "                     Cuisines  ...  Has Table booking Has Online delivery  \\\n",
       "0  French, Japanese, Desserts  ...                Yes                  No   \n",
       "1                    Japanese  ...                Yes                  No   \n",
       "\n",
       "  Is delivering now Switch to order menu Price range Aggregate rating  \\\n",
       "0                No                   No           3              4.8   \n",
       "1                No                   No           3              4.5   \n",
       "\n",
       "   Rating color  Rating text Votes      Country  \n",
       "0    Dark Green    Excellent   314  Phillipines  \n",
       "1    Dark Green    Excellent   591  Phillipines  \n",
       "\n",
       "[2 rows x 22 columns]"
      ]
     },
<<<<<<< HEAD
     "execution_count": 12,
=======
     "execution_count": 85,
>>>>>>> 8089eef6997c8711983a2cd9d95bee69680bd6c9
     "metadata": {},
     "output_type": "execute_result"
    }
   ],
   "source": [
    "final_df.head(2)"
   ]
  },
  {
   "cell_type": "code",
<<<<<<< HEAD
   "execution_count": 13,
=======
   "execution_count": 86,
>>>>>>> 8089eef6997c8711983a2cd9d95bee69680bd6c9
   "id": "dca5ddf5",
   "metadata": {},
   "outputs": [
    {
     "data": {
      "text/plain": [
       "Index(['Restaurant ID', 'Restaurant Name', 'Country Code', 'City', 'Address',\n",
       "       'Locality', 'Locality Verbose', 'Longitude', 'Latitude', 'Cuisines',\n",
       "       'Average Cost for two', 'Currency', 'Has Table booking',\n",
       "       'Has Online delivery', 'Is delivering now', 'Switch to order menu',\n",
       "       'Price range', 'Aggregate rating', 'Rating color', 'Rating text',\n",
       "       'Votes'],\n",
       "      dtype='object')"
      ]
     },
<<<<<<< HEAD
     "execution_count": 13,
=======
     "execution_count": 86,
>>>>>>> 8089eef6997c8711983a2cd9d95bee69680bd6c9
     "metadata": {},
     "output_type": "execute_result"
    }
   ],
   "source": [
    "df.columns"
   ]
  },
  {
   "cell_type": "code",
<<<<<<< HEAD
   "execution_count": 14,
=======
   "execution_count": 87,
>>>>>>> 8089eef6997c8711983a2cd9d95bee69680bd6c9
   "id": "52725d6c",
   "metadata": {},
   "outputs": [
    {
     "name": "stdout",
     "output_type": "stream",
     "text": [
      "<class 'pandas.core.frame.DataFrame'>\n",
      "RangeIndex: 9551 entries, 0 to 9550\n",
      "Data columns (total 21 columns):\n",
      " #   Column                Non-Null Count  Dtype  \n",
      "---  ------                --------------  -----  \n",
      " 0   Restaurant ID         9551 non-null   int64  \n",
      " 1   Restaurant Name       9551 non-null   object \n",
      " 2   Country Code          9551 non-null   int64  \n",
      " 3   City                  9551 non-null   object \n",
      " 4   Address               9551 non-null   object \n",
      " 5   Locality              9551 non-null   object \n",
      " 6   Locality Verbose      9551 non-null   object \n",
      " 7   Longitude             9551 non-null   float64\n",
      " 8   Latitude              9551 non-null   float64\n",
      " 9   Cuisines              9542 non-null   object \n",
      " 10  Average Cost for two  9551 non-null   int64  \n",
      " 11  Currency              9551 non-null   object \n",
      " 12  Has Table booking     9551 non-null   object \n",
      " 13  Has Online delivery   9551 non-null   object \n",
      " 14  Is delivering now     9551 non-null   object \n",
      " 15  Switch to order menu  9551 non-null   object \n",
      " 16  Price range           9551 non-null   int64  \n",
      " 17  Aggregate rating      9551 non-null   float64\n",
      " 18  Rating color          9551 non-null   object \n",
      " 19  Rating text           9551 non-null   object \n",
      " 20  Votes                 9551 non-null   int64  \n",
      "dtypes: float64(3), int64(5), object(13)\n",
      "memory usage: 1.5+ MB\n"
     ]
    }
   ],
   "source": [
    "df.info()"
   ]
  },
  {
   "cell_type": "code",
<<<<<<< HEAD
   "execution_count": 15,
=======
   "execution_count": 88,
>>>>>>> 8089eef6997c8711983a2cd9d95bee69680bd6c9
   "id": "824c85cb",
   "metadata": {},
   "outputs": [],
   "source": [
    "country_names = final_df.Country.value_counts().index"
   ]
  },
  {
   "cell_type": "code",
<<<<<<< HEAD
   "execution_count": 16,
=======
   "execution_count": 89,
>>>>>>> 8089eef6997c8711983a2cd9d95bee69680bd6c9
   "id": "4d9e769f",
   "metadata": {},
   "outputs": [
    {
     "data": {
      "text/plain": [
       "Index(['India', 'United States', 'United Kingdom', 'Brazil', 'UAE',\n",
       "       'South Africa', 'New Zealand', 'Turkey', 'Australia', 'Phillipines',\n",
       "       'Indonesia', 'Singapore', 'Qatar', 'Sri Lanka', 'Canada'],\n",
       "      dtype='object')"
      ]
     },
<<<<<<< HEAD
     "execution_count": 16,
=======
     "execution_count": 89,
>>>>>>> 8089eef6997c8711983a2cd9d95bee69680bd6c9
     "metadata": {},
     "output_type": "execute_result"
    }
   ],
   "source": [
    "country_names"
   ]
  },
  {
   "cell_type": "code",
<<<<<<< HEAD
   "execution_count": 17,
=======
   "execution_count": 90,
>>>>>>> 8089eef6997c8711983a2cd9d95bee69680bd6c9
   "id": "1b7e4ff3",
   "metadata": {},
   "outputs": [],
   "source": [
    "country_values = final_df.Country.value_counts().values"
   ]
  },
  {
   "cell_type": "code",
<<<<<<< HEAD
   "execution_count": 18,
=======
   "execution_count": 91,
>>>>>>> 8089eef6997c8711983a2cd9d95bee69680bd6c9
   "id": "2571988e",
   "metadata": {},
   "outputs": [
    {
     "data": {
      "text/plain": [
<<<<<<< HEAD
       "([<matplotlib.patches.Wedge at 0x1c0e1f0a590>,\n",
       "  <matplotlib.patches.Wedge at 0x1c0e68f2190>,\n",
       "  <matplotlib.patches.Wedge at 0x1c0e68ddb10>],\n",
=======
       "([<matplotlib.patches.Wedge at 0x1b257855910>,\n",
       "  <matplotlib.patches.Wedge at 0x1b257855df0>,\n",
       "  <matplotlib.patches.Wedge at 0x1b257862310>],\n",
>>>>>>> 8089eef6997c8711983a2cd9d95bee69680bd6c9
       " [Text(-1.0829742700952103, 0.19278674827836725, 'India'),\n",
       "  Text(1.077281715838356, -0.22240527134123297, 'United States'),\n",
       "  Text(1.0995865153823035, -0.03015783794312073, 'United Kingdom')])"
      ]
     },
<<<<<<< HEAD
     "execution_count": 18,
=======
     "execution_count": 91,
>>>>>>> 8089eef6997c8711983a2cd9d95bee69680bd6c9
     "metadata": {},
     "output_type": "execute_result"
    },
    {
     "data": {
<<<<<<< HEAD
      "image/png": "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",
=======
      "image/png": "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\n",
>>>>>>> 8089eef6997c8711983a2cd9d95bee69680bd6c9
      "text/plain": [
       "<Figure size 640x480 with 1 Axes>"
      ]
     },
     "metadata": {},
     "output_type": "display_data"
    }
   ],
   "source": [
    "plt.pie(country_values[:3],labels = country_names[:3])"
   ]
  },
  {
   "cell_type": "markdown",
   "id": "32272937",
   "metadata": {},
   "source": [
    "Observation: Zomato maximum records or transactions are from India \n",
    "\n",
    "After that US and then UK"
   ]
  },
  {
   "cell_type": "code",
<<<<<<< HEAD
   "execution_count": 19,
=======
   "execution_count": 92,
>>>>>>> 8089eef6997c8711983a2cd9d95bee69680bd6c9
   "id": "fbb8e5a5",
   "metadata": {},
   "outputs": [
    {
     "data": {
      "text/plain": [
       "Index(['Restaurant ID', 'Restaurant Name', 'Country Code', 'City', 'Address',\n",
       "       'Locality', 'Locality Verbose', 'Longitude', 'Latitude', 'Cuisines',\n",
       "       'Average Cost for two', 'Currency', 'Has Table booking',\n",
       "       'Has Online delivery', 'Is delivering now', 'Switch to order menu',\n",
       "       'Price range', 'Aggregate rating', 'Rating color', 'Rating text',\n",
       "       'Votes', 'Country'],\n",
       "      dtype='object')"
      ]
     },
<<<<<<< HEAD
     "execution_count": 19,
=======
     "execution_count": 92,
>>>>>>> 8089eef6997c8711983a2cd9d95bee69680bd6c9
     "metadata": {},
     "output_type": "execute_result"
    }
   ],
   "source": [
    "final_df.columns"
   ]
  },
  {
   "cell_type": "code",
<<<<<<< HEAD
   "execution_count": 20,
=======
   "execution_count": 93,
>>>>>>> 8089eef6997c8711983a2cd9d95bee69680bd6c9
   "id": "d778e66f",
   "metadata": {},
   "outputs": [
    {
     "data": {
      "text/plain": [
       "Aggregate rating  Rating color  Rating text\n",
       "0.0               White         Not rated      2148\n",
       "1.8               Red           Poor              1\n",
       "1.9               Red           Poor              2\n",
       "2.0               Red           Poor              7\n",
       "2.1               Red           Poor             15\n",
       "2.2               Red           Poor             27\n",
       "2.3               Red           Poor             47\n",
       "2.4               Red           Poor             87\n",
       "2.5               Orange        Average         110\n",
       "2.6               Orange        Average         191\n",
       "2.7               Orange        Average         250\n",
       "2.8               Orange        Average         315\n",
       "2.9               Orange        Average         381\n",
       "3.0               Orange        Average         468\n",
       "3.1               Orange        Average         519\n",
       "3.2               Orange        Average         522\n",
       "3.3               Orange        Average         483\n",
       "3.4               Orange        Average         498\n",
       "3.5               Yellow        Good            480\n",
       "3.6               Yellow        Good            458\n",
       "3.7               Yellow        Good            427\n",
       "3.8               Yellow        Good            400\n",
       "3.9               Yellow        Good            335\n",
       "4.0               Green         Very Good       266\n",
       "4.1               Green         Very Good       274\n",
       "4.2               Green         Very Good       221\n",
       "4.3               Green         Very Good       174\n",
       "4.4               Green         Very Good       144\n",
       "4.5               Dark Green    Excellent        95\n",
       "4.6               Dark Green    Excellent        78\n",
       "4.7               Dark Green    Excellent        42\n",
       "4.8               Dark Green    Excellent        25\n",
       "4.9               Dark Green    Excellent        61\n",
       "dtype: int64"
      ]
     },
<<<<<<< HEAD
     "execution_count": 20,
=======
     "execution_count": 93,
>>>>>>> 8089eef6997c8711983a2cd9d95bee69680bd6c9
     "metadata": {},
     "output_type": "execute_result"
    }
   ],
   "source": [
    "final_df.groupby(['Aggregate rating', 'Rating color', 'Rating text']).size()"
   ]
  },
  {
   "cell_type": "code",
<<<<<<< HEAD
   "execution_count": 21,
=======
   "execution_count": 94,
>>>>>>> 8089eef6997c8711983a2cd9d95bee69680bd6c9
   "id": "297b0b5d",
   "metadata": {},
   "outputs": [
    {
     "data": {
      "text/html": [
       "<div>\n",
       "<style scoped>\n",
       "    .dataframe tbody tr th:only-of-type {\n",
       "        vertical-align: middle;\n",
       "    }\n",
       "\n",
       "    .dataframe tbody tr th {\n",
       "        vertical-align: top;\n",
       "    }\n",
       "\n",
       "    .dataframe thead th {\n",
       "        text-align: right;\n",
       "    }\n",
       "</style>\n",
       "<table border=\"1\" class=\"dataframe\">\n",
       "  <thead>\n",
       "    <tr style=\"text-align: right;\">\n",
       "      <th></th>\n",
       "      <th>Aggregate rating</th>\n",
       "      <th>Rating color</th>\n",
       "      <th>Rating text</th>\n",
       "      <th>0</th>\n",
       "    </tr>\n",
       "  </thead>\n",
       "  <tbody>\n",
       "    <tr>\n",
       "      <th>0</th>\n",
       "      <td>0.0</td>\n",
       "      <td>White</td>\n",
       "      <td>Not rated</td>\n",
       "      <td>2148</td>\n",
       "    </tr>\n",
       "    <tr>\n",
       "      <th>1</th>\n",
       "      <td>1.8</td>\n",
       "      <td>Red</td>\n",
       "      <td>Poor</td>\n",
       "      <td>1</td>\n",
       "    </tr>\n",
       "    <tr>\n",
       "      <th>2</th>\n",
       "      <td>1.9</td>\n",
       "      <td>Red</td>\n",
       "      <td>Poor</td>\n",
       "      <td>2</td>\n",
       "    </tr>\n",
       "    <tr>\n",
       "      <th>3</th>\n",
       "      <td>2.0</td>\n",
       "      <td>Red</td>\n",
       "      <td>Poor</td>\n",
       "      <td>7</td>\n",
       "    </tr>\n",
       "    <tr>\n",
       "      <th>4</th>\n",
       "      <td>2.1</td>\n",
       "      <td>Red</td>\n",
       "      <td>Poor</td>\n",
       "      <td>15</td>\n",
       "    </tr>\n",
       "    <tr>\n",
       "      <th>5</th>\n",
       "      <td>2.2</td>\n",
       "      <td>Red</td>\n",
       "      <td>Poor</td>\n",
       "      <td>27</td>\n",
       "    </tr>\n",
       "    <tr>\n",
       "      <th>6</th>\n",
       "      <td>2.3</td>\n",
       "      <td>Red</td>\n",
       "      <td>Poor</td>\n",
       "      <td>47</td>\n",
       "    </tr>\n",
       "    <tr>\n",
       "      <th>7</th>\n",
       "      <td>2.4</td>\n",
       "      <td>Red</td>\n",
       "      <td>Poor</td>\n",
       "      <td>87</td>\n",
       "    </tr>\n",
       "    <tr>\n",
       "      <th>8</th>\n",
       "      <td>2.5</td>\n",
       "      <td>Orange</td>\n",
       "      <td>Average</td>\n",
       "      <td>110</td>\n",
       "    </tr>\n",
       "    <tr>\n",
       "      <th>9</th>\n",
       "      <td>2.6</td>\n",
       "      <td>Orange</td>\n",
       "      <td>Average</td>\n",
       "      <td>191</td>\n",
       "    </tr>\n",
       "    <tr>\n",
       "      <th>10</th>\n",
       "      <td>2.7</td>\n",
       "      <td>Orange</td>\n",
       "      <td>Average</td>\n",
       "      <td>250</td>\n",
       "    </tr>\n",
       "    <tr>\n",
       "      <th>11</th>\n",
       "      <td>2.8</td>\n",
       "      <td>Orange</td>\n",
       "      <td>Average</td>\n",
       "      <td>315</td>\n",
       "    </tr>\n",
       "    <tr>\n",
       "      <th>12</th>\n",
       "      <td>2.9</td>\n",
       "      <td>Orange</td>\n",
       "      <td>Average</td>\n",
       "      <td>381</td>\n",
       "    </tr>\n",
       "    <tr>\n",
       "      <th>13</th>\n",
       "      <td>3.0</td>\n",
       "      <td>Orange</td>\n",
       "      <td>Average</td>\n",
       "      <td>468</td>\n",
       "    </tr>\n",
       "    <tr>\n",
       "      <th>14</th>\n",
       "      <td>3.1</td>\n",
       "      <td>Orange</td>\n",
       "      <td>Average</td>\n",
       "      <td>519</td>\n",
       "    </tr>\n",
       "    <tr>\n",
       "      <th>15</th>\n",
       "      <td>3.2</td>\n",
       "      <td>Orange</td>\n",
       "      <td>Average</td>\n",
       "      <td>522</td>\n",
       "    </tr>\n",
       "    <tr>\n",
       "      <th>16</th>\n",
       "      <td>3.3</td>\n",
       "      <td>Orange</td>\n",
       "      <td>Average</td>\n",
       "      <td>483</td>\n",
       "    </tr>\n",
       "    <tr>\n",
       "      <th>17</th>\n",
       "      <td>3.4</td>\n",
       "      <td>Orange</td>\n",
       "      <td>Average</td>\n",
       "      <td>498</td>\n",
       "    </tr>\n",
       "    <tr>\n",
       "      <th>18</th>\n",
       "      <td>3.5</td>\n",
       "      <td>Yellow</td>\n",
       "      <td>Good</td>\n",
       "      <td>480</td>\n",
       "    </tr>\n",
       "    <tr>\n",
       "      <th>19</th>\n",
       "      <td>3.6</td>\n",
       "      <td>Yellow</td>\n",
       "      <td>Good</td>\n",
       "      <td>458</td>\n",
       "    </tr>\n",
       "    <tr>\n",
       "      <th>20</th>\n",
       "      <td>3.7</td>\n",
       "      <td>Yellow</td>\n",
       "      <td>Good</td>\n",
       "      <td>427</td>\n",
       "    </tr>\n",
       "    <tr>\n",
       "      <th>21</th>\n",
       "      <td>3.8</td>\n",
       "      <td>Yellow</td>\n",
       "      <td>Good</td>\n",
       "      <td>400</td>\n",
       "    </tr>\n",
       "    <tr>\n",
       "      <th>22</th>\n",
       "      <td>3.9</td>\n",
       "      <td>Yellow</td>\n",
       "      <td>Good</td>\n",
       "      <td>335</td>\n",
       "    </tr>\n",
       "    <tr>\n",
       "      <th>23</th>\n",
       "      <td>4.0</td>\n",
       "      <td>Green</td>\n",
       "      <td>Very Good</td>\n",
       "      <td>266</td>\n",
       "    </tr>\n",
       "    <tr>\n",
       "      <th>24</th>\n",
       "      <td>4.1</td>\n",
       "      <td>Green</td>\n",
       "      <td>Very Good</td>\n",
       "      <td>274</td>\n",
       "    </tr>\n",
       "    <tr>\n",
       "      <th>25</th>\n",
       "      <td>4.2</td>\n",
       "      <td>Green</td>\n",
       "      <td>Very Good</td>\n",
       "      <td>221</td>\n",
       "    </tr>\n",
       "    <tr>\n",
       "      <th>26</th>\n",
       "      <td>4.3</td>\n",
       "      <td>Green</td>\n",
       "      <td>Very Good</td>\n",
       "      <td>174</td>\n",
       "    </tr>\n",
       "    <tr>\n",
       "      <th>27</th>\n",
       "      <td>4.4</td>\n",
       "      <td>Green</td>\n",
       "      <td>Very Good</td>\n",
       "      <td>144</td>\n",
       "    </tr>\n",
       "    <tr>\n",
       "      <th>28</th>\n",
       "      <td>4.5</td>\n",
       "      <td>Dark Green</td>\n",
       "      <td>Excellent</td>\n",
       "      <td>95</td>\n",
       "    </tr>\n",
       "    <tr>\n",
       "      <th>29</th>\n",
       "      <td>4.6</td>\n",
       "      <td>Dark Green</td>\n",
       "      <td>Excellent</td>\n",
       "      <td>78</td>\n",
       "    </tr>\n",
       "    <tr>\n",
       "      <th>30</th>\n",
       "      <td>4.7</td>\n",
       "      <td>Dark Green</td>\n",
       "      <td>Excellent</td>\n",
       "      <td>42</td>\n",
       "    </tr>\n",
       "    <tr>\n",
       "      <th>31</th>\n",
       "      <td>4.8</td>\n",
       "      <td>Dark Green</td>\n",
       "      <td>Excellent</td>\n",
       "      <td>25</td>\n",
       "    </tr>\n",
       "    <tr>\n",
       "      <th>32</th>\n",
       "      <td>4.9</td>\n",
       "      <td>Dark Green</td>\n",
       "      <td>Excellent</td>\n",
       "      <td>61</td>\n",
       "    </tr>\n",
       "  </tbody>\n",
       "</table>\n",
       "</div>"
      ],
      "text/plain": [
       "    Aggregate rating Rating color Rating text     0\n",
       "0                0.0        White   Not rated  2148\n",
       "1                1.8          Red        Poor     1\n",
       "2                1.9          Red        Poor     2\n",
       "3                2.0          Red        Poor     7\n",
       "4                2.1          Red        Poor    15\n",
       "5                2.2          Red        Poor    27\n",
       "6                2.3          Red        Poor    47\n",
       "7                2.4          Red        Poor    87\n",
       "8                2.5       Orange     Average   110\n",
       "9                2.6       Orange     Average   191\n",
       "10               2.7       Orange     Average   250\n",
       "11               2.8       Orange     Average   315\n",
       "12               2.9       Orange     Average   381\n",
       "13               3.0       Orange     Average   468\n",
       "14               3.1       Orange     Average   519\n",
       "15               3.2       Orange     Average   522\n",
       "16               3.3       Orange     Average   483\n",
       "17               3.4       Orange     Average   498\n",
       "18               3.5       Yellow        Good   480\n",
       "19               3.6       Yellow        Good   458\n",
       "20               3.7       Yellow        Good   427\n",
       "21               3.8       Yellow        Good   400\n",
       "22               3.9       Yellow        Good   335\n",
       "23               4.0        Green   Very Good   266\n",
       "24               4.1        Green   Very Good   274\n",
       "25               4.2        Green   Very Good   221\n",
       "26               4.3        Green   Very Good   174\n",
       "27               4.4        Green   Very Good   144\n",
       "28               4.5   Dark Green   Excellent    95\n",
       "29               4.6   Dark Green   Excellent    78\n",
       "30               4.7   Dark Green   Excellent    42\n",
       "31               4.8   Dark Green   Excellent    25\n",
       "32               4.9   Dark Green   Excellent    61"
      ]
     },
<<<<<<< HEAD
     "execution_count": 21,
=======
     "execution_count": 94,
>>>>>>> 8089eef6997c8711983a2cd9d95bee69680bd6c9
     "metadata": {},
     "output_type": "execute_result"
    }
   ],
   "source": [
    "final_df.groupby(['Aggregate rating', 'Rating color', 'Rating text']).size().reset_index()"
   ]
  },
  {
   "cell_type": "code",
<<<<<<< HEAD
   "execution_count": 22,
=======
   "execution_count": 95,
>>>>>>> 8089eef6997c8711983a2cd9d95bee69680bd6c9
   "id": "9a6c2ce0",
   "metadata": {},
   "outputs": [
    {
     "data": {
      "text/html": [
       "<div>\n",
       "<style scoped>\n",
       "    .dataframe tbody tr th:only-of-type {\n",
       "        vertical-align: middle;\n",
       "    }\n",
       "\n",
       "    .dataframe tbody tr th {\n",
       "        vertical-align: top;\n",
       "    }\n",
       "\n",
       "    .dataframe thead th {\n",
       "        text-align: right;\n",
       "    }\n",
       "</style>\n",
       "<table border=\"1\" class=\"dataframe\">\n",
       "  <thead>\n",
       "    <tr style=\"text-align: right;\">\n",
       "      <th></th>\n",
       "      <th>Aggregate rating</th>\n",
       "      <th>Rating color</th>\n",
       "      <th>Rating text</th>\n",
       "      <th>Rating Count</th>\n",
       "    </tr>\n",
       "  </thead>\n",
       "  <tbody>\n",
       "    <tr>\n",
       "      <th>0</th>\n",
       "      <td>0.0</td>\n",
       "      <td>White</td>\n",
       "      <td>Not rated</td>\n",
       "      <td>2148</td>\n",
       "    </tr>\n",
       "    <tr>\n",
       "      <th>1</th>\n",
       "      <td>1.8</td>\n",
       "      <td>Red</td>\n",
       "      <td>Poor</td>\n",
       "      <td>1</td>\n",
       "    </tr>\n",
       "    <tr>\n",
       "      <th>2</th>\n",
       "      <td>1.9</td>\n",
       "      <td>Red</td>\n",
       "      <td>Poor</td>\n",
       "      <td>2</td>\n",
       "    </tr>\n",
       "    <tr>\n",
       "      <th>3</th>\n",
       "      <td>2.0</td>\n",
       "      <td>Red</td>\n",
       "      <td>Poor</td>\n",
       "      <td>7</td>\n",
       "    </tr>\n",
       "    <tr>\n",
       "      <th>4</th>\n",
       "      <td>2.1</td>\n",
       "      <td>Red</td>\n",
       "      <td>Poor</td>\n",
       "      <td>15</td>\n",
       "    </tr>\n",
       "    <tr>\n",
       "      <th>5</th>\n",
       "      <td>2.2</td>\n",
       "      <td>Red</td>\n",
       "      <td>Poor</td>\n",
       "      <td>27</td>\n",
       "    </tr>\n",
       "    <tr>\n",
       "      <th>6</th>\n",
       "      <td>2.3</td>\n",
       "      <td>Red</td>\n",
       "      <td>Poor</td>\n",
       "      <td>47</td>\n",
       "    </tr>\n",
       "    <tr>\n",
       "      <th>7</th>\n",
       "      <td>2.4</td>\n",
       "      <td>Red</td>\n",
       "      <td>Poor</td>\n",
       "      <td>87</td>\n",
       "    </tr>\n",
       "    <tr>\n",
       "      <th>8</th>\n",
       "      <td>2.5</td>\n",
       "      <td>Orange</td>\n",
       "      <td>Average</td>\n",
       "      <td>110</td>\n",
       "    </tr>\n",
       "    <tr>\n",
       "      <th>9</th>\n",
       "      <td>2.6</td>\n",
       "      <td>Orange</td>\n",
       "      <td>Average</td>\n",
       "      <td>191</td>\n",
       "    </tr>\n",
       "    <tr>\n",
       "      <th>10</th>\n",
       "      <td>2.7</td>\n",
       "      <td>Orange</td>\n",
       "      <td>Average</td>\n",
       "      <td>250</td>\n",
       "    </tr>\n",
       "    <tr>\n",
       "      <th>11</th>\n",
       "      <td>2.8</td>\n",
       "      <td>Orange</td>\n",
       "      <td>Average</td>\n",
       "      <td>315</td>\n",
       "    </tr>\n",
       "    <tr>\n",
       "      <th>12</th>\n",
       "      <td>2.9</td>\n",
       "      <td>Orange</td>\n",
       "      <td>Average</td>\n",
       "      <td>381</td>\n",
       "    </tr>\n",
       "    <tr>\n",
       "      <th>13</th>\n",
       "      <td>3.0</td>\n",
       "      <td>Orange</td>\n",
       "      <td>Average</td>\n",
       "      <td>468</td>\n",
       "    </tr>\n",
       "    <tr>\n",
       "      <th>14</th>\n",
       "      <td>3.1</td>\n",
       "      <td>Orange</td>\n",
       "      <td>Average</td>\n",
       "      <td>519</td>\n",
       "    </tr>\n",
       "    <tr>\n",
       "      <th>15</th>\n",
       "      <td>3.2</td>\n",
       "      <td>Orange</td>\n",
       "      <td>Average</td>\n",
       "      <td>522</td>\n",
       "    </tr>\n",
       "    <tr>\n",
       "      <th>16</th>\n",
       "      <td>3.3</td>\n",
       "      <td>Orange</td>\n",
       "      <td>Average</td>\n",
       "      <td>483</td>\n",
       "    </tr>\n",
       "    <tr>\n",
       "      <th>17</th>\n",
       "      <td>3.4</td>\n",
       "      <td>Orange</td>\n",
       "      <td>Average</td>\n",
       "      <td>498</td>\n",
       "    </tr>\n",
       "    <tr>\n",
       "      <th>18</th>\n",
       "      <td>3.5</td>\n",
       "      <td>Yellow</td>\n",
       "      <td>Good</td>\n",
       "      <td>480</td>\n",
       "    </tr>\n",
       "    <tr>\n",
       "      <th>19</th>\n",
       "      <td>3.6</td>\n",
       "      <td>Yellow</td>\n",
       "      <td>Good</td>\n",
       "      <td>458</td>\n",
       "    </tr>\n",
       "    <tr>\n",
       "      <th>20</th>\n",
       "      <td>3.7</td>\n",
       "      <td>Yellow</td>\n",
       "      <td>Good</td>\n",
       "      <td>427</td>\n",
       "    </tr>\n",
       "    <tr>\n",
       "      <th>21</th>\n",
       "      <td>3.8</td>\n",
       "      <td>Yellow</td>\n",
       "      <td>Good</td>\n",
       "      <td>400</td>\n",
       "    </tr>\n",
       "    <tr>\n",
       "      <th>22</th>\n",
       "      <td>3.9</td>\n",
       "      <td>Yellow</td>\n",
       "      <td>Good</td>\n",
       "      <td>335</td>\n",
       "    </tr>\n",
       "    <tr>\n",
       "      <th>23</th>\n",
       "      <td>4.0</td>\n",
       "      <td>Green</td>\n",
       "      <td>Very Good</td>\n",
       "      <td>266</td>\n",
       "    </tr>\n",
       "    <tr>\n",
       "      <th>24</th>\n",
       "      <td>4.1</td>\n",
       "      <td>Green</td>\n",
       "      <td>Very Good</td>\n",
       "      <td>274</td>\n",
       "    </tr>\n",
       "    <tr>\n",
       "      <th>25</th>\n",
       "      <td>4.2</td>\n",
       "      <td>Green</td>\n",
       "      <td>Very Good</td>\n",
       "      <td>221</td>\n",
       "    </tr>\n",
       "    <tr>\n",
       "      <th>26</th>\n",
       "      <td>4.3</td>\n",
       "      <td>Green</td>\n",
       "      <td>Very Good</td>\n",
       "      <td>174</td>\n",
       "    </tr>\n",
       "    <tr>\n",
       "      <th>27</th>\n",
       "      <td>4.4</td>\n",
       "      <td>Green</td>\n",
       "      <td>Very Good</td>\n",
       "      <td>144</td>\n",
       "    </tr>\n",
       "    <tr>\n",
       "      <th>28</th>\n",
       "      <td>4.5</td>\n",
       "      <td>Dark Green</td>\n",
       "      <td>Excellent</td>\n",
       "      <td>95</td>\n",
       "    </tr>\n",
       "    <tr>\n",
       "      <th>29</th>\n",
       "      <td>4.6</td>\n",
       "      <td>Dark Green</td>\n",
       "      <td>Excellent</td>\n",
       "      <td>78</td>\n",
       "    </tr>\n",
       "    <tr>\n",
       "      <th>30</th>\n",
       "      <td>4.7</td>\n",
       "      <td>Dark Green</td>\n",
       "      <td>Excellent</td>\n",
       "      <td>42</td>\n",
       "    </tr>\n",
       "    <tr>\n",
       "      <th>31</th>\n",
       "      <td>4.8</td>\n",
       "      <td>Dark Green</td>\n",
       "      <td>Excellent</td>\n",
       "      <td>25</td>\n",
       "    </tr>\n",
       "    <tr>\n",
       "      <th>32</th>\n",
       "      <td>4.9</td>\n",
       "      <td>Dark Green</td>\n",
       "      <td>Excellent</td>\n",
       "      <td>61</td>\n",
       "    </tr>\n",
       "  </tbody>\n",
       "</table>\n",
       "</div>"
      ],
      "text/plain": [
       "    Aggregate rating Rating color Rating text  Rating Count\n",
       "0                0.0        White   Not rated          2148\n",
       "1                1.8          Red        Poor             1\n",
       "2                1.9          Red        Poor             2\n",
       "3                2.0          Red        Poor             7\n",
       "4                2.1          Red        Poor            15\n",
       "5                2.2          Red        Poor            27\n",
       "6                2.3          Red        Poor            47\n",
       "7                2.4          Red        Poor            87\n",
       "8                2.5       Orange     Average           110\n",
       "9                2.6       Orange     Average           191\n",
       "10               2.7       Orange     Average           250\n",
       "11               2.8       Orange     Average           315\n",
       "12               2.9       Orange     Average           381\n",
       "13               3.0       Orange     Average           468\n",
       "14               3.1       Orange     Average           519\n",
       "15               3.2       Orange     Average           522\n",
       "16               3.3       Orange     Average           483\n",
       "17               3.4       Orange     Average           498\n",
       "18               3.5       Yellow        Good           480\n",
       "19               3.6       Yellow        Good           458\n",
       "20               3.7       Yellow        Good           427\n",
       "21               3.8       Yellow        Good           400\n",
       "22               3.9       Yellow        Good           335\n",
       "23               4.0        Green   Very Good           266\n",
       "24               4.1        Green   Very Good           274\n",
       "25               4.2        Green   Very Good           221\n",
       "26               4.3        Green   Very Good           174\n",
       "27               4.4        Green   Very Good           144\n",
       "28               4.5   Dark Green   Excellent            95\n",
       "29               4.6   Dark Green   Excellent            78\n",
       "30               4.7   Dark Green   Excellent            42\n",
       "31               4.8   Dark Green   Excellent            25\n",
       "32               4.9   Dark Green   Excellent            61"
      ]
     },
<<<<<<< HEAD
     "execution_count": 22,
=======
     "execution_count": 95,
>>>>>>> 8089eef6997c8711983a2cd9d95bee69680bd6c9
     "metadata": {},
     "output_type": "execute_result"
    }
   ],
   "source": [
    "final_df.groupby(['Aggregate rating', 'Rating color', 'Rating text']).size().reset_index().rename(columns={0:'Rating Count'})"
   ]
  },
  {
   "cell_type": "code",
<<<<<<< HEAD
   "execution_count": 23,
=======
   "execution_count": 96,
>>>>>>> 8089eef6997c8711983a2cd9d95bee69680bd6c9
   "id": "2df23a97",
   "metadata": {},
   "outputs": [],
   "source": [
    "ratings = final_df.groupby(['Aggregate rating', 'Rating color', 'Rating text']).size().reset_index().rename(columns={0:'Rating Count'})"
   ]
  },
  {
   "cell_type": "code",
<<<<<<< HEAD
   "execution_count": 24,
=======
   "execution_count": 97,
>>>>>>> 8089eef6997c8711983a2cd9d95bee69680bd6c9
   "id": "d2f5d8af",
   "metadata": {
    "scrolled": true
   },
   "outputs": [
    {
     "data": {
      "text/html": [
       "<div>\n",
       "<style scoped>\n",
       "    .dataframe tbody tr th:only-of-type {\n",
       "        vertical-align: middle;\n",
       "    }\n",
       "\n",
       "    .dataframe tbody tr th {\n",
       "        vertical-align: top;\n",
       "    }\n",
       "\n",
       "    .dataframe thead th {\n",
       "        text-align: right;\n",
       "    }\n",
       "</style>\n",
       "<table border=\"1\" class=\"dataframe\">\n",
       "  <thead>\n",
       "    <tr style=\"text-align: right;\">\n",
       "      <th></th>\n",
       "      <th>Aggregate rating</th>\n",
       "      <th>Rating color</th>\n",
       "      <th>Rating text</th>\n",
       "      <th>Rating Count</th>\n",
       "    </tr>\n",
       "  </thead>\n",
       "  <tbody>\n",
       "    <tr>\n",
       "      <th>0</th>\n",
       "      <td>0.0</td>\n",
       "      <td>White</td>\n",
       "      <td>Not rated</td>\n",
       "      <td>2148</td>\n",
       "    </tr>\n",
       "    <tr>\n",
       "      <th>1</th>\n",
       "      <td>1.8</td>\n",
       "      <td>Red</td>\n",
       "      <td>Poor</td>\n",
       "      <td>1</td>\n",
       "    </tr>\n",
       "    <tr>\n",
       "      <th>2</th>\n",
       "      <td>1.9</td>\n",
       "      <td>Red</td>\n",
       "      <td>Poor</td>\n",
       "      <td>2</td>\n",
       "    </tr>\n",
       "  </tbody>\n",
       "</table>\n",
       "</div>"
      ],
      "text/plain": [
       "   Aggregate rating Rating color Rating text  Rating Count\n",
       "0               0.0        White   Not rated          2148\n",
       "1               1.8          Red        Poor             1\n",
       "2               1.9          Red        Poor             2"
      ]
     },
<<<<<<< HEAD
     "execution_count": 24,
=======
     "execution_count": 97,
>>>>>>> 8089eef6997c8711983a2cd9d95bee69680bd6c9
     "metadata": {},
     "output_type": "execute_result"
    }
   ],
   "source": [
    "ratings.head(3)"
   ]
  },
  {
   "cell_type": "markdown",
   "id": "22411169",
   "metadata": {},
   "source": [
    "# Observations\n",
    "1. When rating is between 4.5 to 4.9 ----> Excellent\n",
    "2. When ratings are b/w 4.0 to 4.5----> Very Good\n",
    "3. Many people have not rated ----> 0 rating"
   ]
  },
  {
   "cell_type": "code",
<<<<<<< HEAD
   "execution_count": 25,
=======
   "execution_count": 102,
>>>>>>> 8089eef6997c8711983a2cd9d95bee69680bd6c9
   "id": "49a3ca93",
   "metadata": {},
   "outputs": [
    {
     "data": {
      "text/plain": [
<<<<<<< HEAD
       "<Axes: xlabel='Aggregate rating', ylabel='Rating Count'>"
      ]
     },
     "execution_count": 25,
=======
       "<AxesSubplot:xlabel='Aggregate rating', ylabel='Rating Count'>"
      ]
     },
     "execution_count": 102,
>>>>>>> 8089eef6997c8711983a2cd9d95bee69680bd6c9
     "metadata": {},
     "output_type": "execute_result"
    },
    {
     "data": {
<<<<<<< HEAD
      "image/png": "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",
=======
      "image/png": "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\n",
>>>>>>> 8089eef6997c8711983a2cd9d95bee69680bd6c9
      "text/plain": [
       "<Figure size 1200x600 with 1 Axes>"
      ]
     },
     "metadata": {},
     "output_type": "display_data"
    }
   ],
   "source": [
    "import matplotlib\n",
    "# matplotlib.rcParams(['figure.figsize']) =(12,6)\n",
    "plt.figure(figsize=(12,6))\n",
    "sns.barplot(x = 'Aggregate rating', y = 'Rating Count', data = ratings)\n"
   ]
  },
  {
   "cell_type": "code",
<<<<<<< HEAD
   "execution_count": 26,
=======
   "execution_count": 125,
>>>>>>> 8089eef6997c8711983a2cd9d95bee69680bd6c9
   "id": "7c66b469",
   "metadata": {},
   "outputs": [
    {
     "data": {
      "text/plain": [
<<<<<<< HEAD
       "<Axes: xlabel='Aggregate rating', ylabel='Rating Count'>"
      ]
     },
     "execution_count": 26,
=======
       "<AxesSubplot:xlabel='Aggregate rating', ylabel='Rating Count'>"
      ]
     },
     "execution_count": 125,
>>>>>>> 8089eef6997c8711983a2cd9d95bee69680bd6c9
     "metadata": {},
     "output_type": "execute_result"
    },
    {
     "data": {
<<<<<<< HEAD
      "image/png": "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",
=======
      "image/png": "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\n",
>>>>>>> 8089eef6997c8711983a2cd9d95bee69680bd6c9
      "text/plain": [
       "<Figure size 1200x600 with 1 Axes>"
      ]
     },
     "metadata": {},
     "output_type": "display_data"
    }
   ],
   "source": [
    "plt.figure(figsize=(12,6))\n",
    "sns.barplot(x = 'Aggregate rating', y = 'Rating Count', hue = 'Rating color', data = ratings, palette = ['white','red','orange','yellow','green','green'])"
   ]
  },
  {
   "cell_type": "markdown",
   "id": "b5dee65b",
   "metadata": {},
   "source": [
    " Observations: \n",
    "\n",
    "1. Not Rated count is very high\n",
    "\n",
    "2. Maximum number of rating are between 2.5 and 3.4\n",
    "\n",
    "\n",
    "        "
   ]
  },
  {
   "cell_type": "code",
<<<<<<< HEAD
   "execution_count": 27,
=======
   "execution_count": 128,
>>>>>>> 8089eef6997c8711983a2cd9d95bee69680bd6c9
   "id": "e70ad412",
   "metadata": {},
   "outputs": [
    {
     "data": {
      "text/plain": [
       "Index(['Restaurant ID', 'Restaurant Name', 'Country Code', 'City', 'Address',\n",
       "       'Locality', 'Locality Verbose', 'Longitude', 'Latitude', 'Cuisines',\n",
       "       'Average Cost for two', 'Currency', 'Has Table booking',\n",
       "       'Has Online delivery', 'Is delivering now', 'Switch to order menu',\n",
       "       'Price range', 'Aggregate rating', 'Rating color', 'Rating text',\n",
       "       'Votes', 'Country'],\n",
       "      dtype='object')"
      ]
     },
<<<<<<< HEAD
     "execution_count": 27,
=======
     "execution_count": 128,
>>>>>>> 8089eef6997c8711983a2cd9d95bee69680bd6c9
     "metadata": {},
     "output_type": "execute_result"
    }
   ],
   "source": [
    "final_df.columns"
   ]
  },
  {
   "cell_type": "code",
   "execution_count": null,
   "id": "8e640cbc",
   "metadata": {},
   "outputs": [],
   "source": [
    "#Find the countries that has given 0 rating"
   ]
  },
  {
   "cell_type": "code",
<<<<<<< HEAD
   "execution_count": 28,
=======
   "execution_count": 133,
>>>>>>> 8089eef6997c8711983a2cd9d95bee69680bd6c9
   "id": "7f99f672",
   "metadata": {
    "scrolled": true
   },
   "outputs": [
    {
     "data": {
      "text/html": [
       "<div>\n",
       "<style scoped>\n",
       "    .dataframe tbody tr th:only-of-type {\n",
       "        vertical-align: middle;\n",
       "    }\n",
       "\n",
       "    .dataframe tbody tr th {\n",
       "        vertical-align: top;\n",
       "    }\n",
       "\n",
       "    .dataframe thead th {\n",
       "        text-align: right;\n",
       "    }\n",
       "</style>\n",
       "<table border=\"1\" class=\"dataframe\">\n",
       "  <thead>\n",
       "    <tr style=\"text-align: right;\">\n",
       "      <th></th>\n",
       "      <th>Country</th>\n",
       "      <th>0</th>\n",
       "    </tr>\n",
       "  </thead>\n",
       "  <tbody>\n",
       "    <tr>\n",
       "      <th>0</th>\n",
       "      <td>Brazil</td>\n",
       "      <td>5</td>\n",
       "    </tr>\n",
       "    <tr>\n",
       "      <th>1</th>\n",
       "      <td>India</td>\n",
       "      <td>2139</td>\n",
       "    </tr>\n",
       "    <tr>\n",
       "      <th>2</th>\n",
       "      <td>United Kingdom</td>\n",
       "      <td>1</td>\n",
       "    </tr>\n",
       "    <tr>\n",
       "      <th>3</th>\n",
       "      <td>United States</td>\n",
       "      <td>3</td>\n",
       "    </tr>\n",
       "  </tbody>\n",
       "</table>\n",
       "</div>"
      ],
      "text/plain": [
       "          Country     0\n",
       "0          Brazil     5\n",
       "1           India  2139\n",
       "2  United Kingdom     1\n",
       "3   United States     3"
      ]
     },
<<<<<<< HEAD
     "execution_count": 28,
=======
     "execution_count": 133,
>>>>>>> 8089eef6997c8711983a2cd9d95bee69680bd6c9
     "metadata": {},
     "output_type": "execute_result"
    }
   ],
   "source": [
    "final_df[final_df['Rating color']=='White'].groupby('Country').size().reset_index()"
   ]
  },
  {
   "cell_type": "code",
<<<<<<< HEAD
   "execution_count": 29,
=======
   "execution_count": 134,
>>>>>>> 8089eef6997c8711983a2cd9d95bee69680bd6c9
   "id": "ccaf941d",
   "metadata": {},
   "outputs": [
    {
     "data": {
      "text/html": [
       "<div>\n",
       "<style scoped>\n",
       "    .dataframe tbody tr th:only-of-type {\n",
       "        vertical-align: middle;\n",
       "    }\n",
       "\n",
       "    .dataframe tbody tr th {\n",
       "        vertical-align: top;\n",
       "    }\n",
       "\n",
       "    .dataframe thead th {\n",
       "        text-align: right;\n",
       "    }\n",
       "</style>\n",
       "<table border=\"1\" class=\"dataframe\">\n",
       "  <thead>\n",
       "    <tr style=\"text-align: right;\">\n",
       "      <th></th>\n",
       "      <th>Aggregate rating</th>\n",
       "      <th>Country</th>\n",
       "      <th>0</th>\n",
       "    </tr>\n",
       "  </thead>\n",
       "  <tbody>\n",
       "    <tr>\n",
       "      <th>0</th>\n",
       "      <td>0.0</td>\n",
       "      <td>Brazil</td>\n",
       "      <td>5</td>\n",
       "    </tr>\n",
       "    <tr>\n",
       "      <th>1</th>\n",
       "      <td>0.0</td>\n",
       "      <td>India</td>\n",
       "      <td>2139</td>\n",
       "    </tr>\n",
       "    <tr>\n",
       "      <th>2</th>\n",
       "      <td>0.0</td>\n",
       "      <td>United Kingdom</td>\n",
       "      <td>1</td>\n",
       "    </tr>\n",
       "    <tr>\n",
       "      <th>3</th>\n",
       "      <td>0.0</td>\n",
       "      <td>United States</td>\n",
       "      <td>3</td>\n",
       "    </tr>\n",
       "    <tr>\n",
       "      <th>4</th>\n",
       "      <td>1.8</td>\n",
       "      <td>India</td>\n",
       "      <td>1</td>\n",
       "    </tr>\n",
       "  </tbody>\n",
       "</table>\n",
       "</div>"
      ],
      "text/plain": [
       "   Aggregate rating         Country     0\n",
       "0               0.0          Brazil     5\n",
       "1               0.0           India  2139\n",
       "2               0.0  United Kingdom     1\n",
       "3               0.0   United States     3\n",
       "4               1.8           India     1"
      ]
     },
<<<<<<< HEAD
     "execution_count": 29,
=======
     "execution_count": 134,
>>>>>>> 8089eef6997c8711983a2cd9d95bee69680bd6c9
     "metadata": {},
     "output_type": "execute_result"
    }
   ],
   "source": [
    "final_df.groupby(['Aggregate rating', 'Country']).size().reset_index().head(5)"
   ]
  },
  {
   "cell_type": "markdown",
   "id": "b67c6651",
   "metadata": {},
   "source": [
    "Observations: Maximum number of 0 ratings are from Indian customers"
   ]
  },
  {
   "cell_type": "code",
<<<<<<< HEAD
   "execution_count": 30,
=======
   "execution_count": 135,
>>>>>>> 8089eef6997c8711983a2cd9d95bee69680bd6c9
   "id": "861f5006",
   "metadata": {},
   "outputs": [
    {
     "data": {
      "text/plain": [
       "Index(['Restaurant ID', 'Restaurant Name', 'Country Code', 'City', 'Address',\n",
       "       'Locality', 'Locality Verbose', 'Longitude', 'Latitude', 'Cuisines',\n",
       "       'Average Cost for two', 'Currency', 'Has Table booking',\n",
       "       'Has Online delivery', 'Is delivering now', 'Switch to order menu',\n",
       "       'Price range', 'Aggregate rating', 'Rating color', 'Rating text',\n",
       "       'Votes', 'Country'],\n",
       "      dtype='object')"
      ]
     },
<<<<<<< HEAD
     "execution_count": 30,
=======
     "execution_count": 135,
>>>>>>> 8089eef6997c8711983a2cd9d95bee69680bd6c9
     "metadata": {},
     "output_type": "execute_result"
    }
   ],
   "source": [
    "#Find out which currency is used by which country\n",
    "final_df.columns"
   ]
  },
  {
   "cell_type": "code",
<<<<<<< HEAD
   "execution_count": 31,
=======
   "execution_count": 139,
>>>>>>> 8089eef6997c8711983a2cd9d95bee69680bd6c9
   "id": "c7024acf",
   "metadata": {},
   "outputs": [
    {
     "data": {
      "text/plain": [
       "Indian Rupees(Rs.)        8652\n",
       "Dollar($)                  482\n",
       "Pounds(£)                  80\n",
       "Brazilian Real(R$)          60\n",
       "Emirati Diram(AED)          60\n",
       "Rand(R)                     60\n",
       "NewZealand($)               40\n",
       "Turkish Lira(TL)            34\n",
       "Botswana Pula(P)            22\n",
       "Indonesian Rupiah(IDR)      21\n",
       "Qatari Rial(QR)             20\n",
       "Sri Lankan Rupee(LKR)       20\n",
       "Name: Currency, dtype: int64"
      ]
     },
<<<<<<< HEAD
     "execution_count": 31,
=======
     "execution_count": 139,
>>>>>>> 8089eef6997c8711983a2cd9d95bee69680bd6c9
     "metadata": {},
     "output_type": "execute_result"
    }
   ],
   "source": [
    "final_df['Currency'].value_counts()"
   ]
  },
  {
   "cell_type": "code",
<<<<<<< HEAD
   "execution_count": 32,
=======
   "execution_count": 140,
>>>>>>> 8089eef6997c8711983a2cd9d95bee69680bd6c9
   "id": "30a60ed0",
   "metadata": {},
   "outputs": [
    {
     "data": {
      "text/html": [
       "<div>\n",
       "<style scoped>\n",
       "    .dataframe tbody tr th:only-of-type {\n",
       "        vertical-align: middle;\n",
       "    }\n",
       "\n",
       "    .dataframe tbody tr th {\n",
       "        vertical-align: top;\n",
       "    }\n",
       "\n",
       "    .dataframe thead th {\n",
       "        text-align: right;\n",
       "    }\n",
       "</style>\n",
       "<table border=\"1\" class=\"dataframe\">\n",
       "  <thead>\n",
       "    <tr style=\"text-align: right;\">\n",
       "      <th></th>\n",
       "      <th>Country</th>\n",
       "      <th>Currency</th>\n",
       "      <th>0</th>\n",
       "    </tr>\n",
       "  </thead>\n",
       "  <tbody>\n",
       "    <tr>\n",
       "      <th>0</th>\n",
       "      <td>Australia</td>\n",
       "      <td>Dollar($)</td>\n",
       "      <td>24</td>\n",
       "    </tr>\n",
       "    <tr>\n",
       "      <th>1</th>\n",
       "      <td>Brazil</td>\n",
       "      <td>Brazilian Real(R$)</td>\n",
       "      <td>60</td>\n",
       "    </tr>\n",
       "    <tr>\n",
       "      <th>2</th>\n",
       "      <td>Canada</td>\n",
       "      <td>Dollar($)</td>\n",
       "      <td>4</td>\n",
       "    </tr>\n",
       "    <tr>\n",
       "      <th>3</th>\n",
       "      <td>India</td>\n",
       "      <td>Indian Rupees(Rs.)</td>\n",
       "      <td>8652</td>\n",
       "    </tr>\n",
       "    <tr>\n",
       "      <th>4</th>\n",
       "      <td>Indonesia</td>\n",
       "      <td>Indonesian Rupiah(IDR)</td>\n",
       "      <td>21</td>\n",
       "    </tr>\n",
       "    <tr>\n",
       "      <th>5</th>\n",
       "      <td>New Zealand</td>\n",
       "      <td>NewZealand($)</td>\n",
       "      <td>40</td>\n",
       "    </tr>\n",
       "    <tr>\n",
       "      <th>6</th>\n",
       "      <td>Phillipines</td>\n",
       "      <td>Botswana Pula(P)</td>\n",
       "      <td>22</td>\n",
       "    </tr>\n",
       "    <tr>\n",
       "      <th>7</th>\n",
       "      <td>Qatar</td>\n",
       "      <td>Qatari Rial(QR)</td>\n",
       "      <td>20</td>\n",
       "    </tr>\n",
       "    <tr>\n",
       "      <th>8</th>\n",
       "      <td>Singapore</td>\n",
       "      <td>Dollar($)</td>\n",
       "      <td>20</td>\n",
       "    </tr>\n",
       "    <tr>\n",
       "      <th>9</th>\n",
       "      <td>South Africa</td>\n",
       "      <td>Rand(R)</td>\n",
       "      <td>60</td>\n",
       "    </tr>\n",
       "    <tr>\n",
       "      <th>10</th>\n",
       "      <td>Sri Lanka</td>\n",
       "      <td>Sri Lankan Rupee(LKR)</td>\n",
       "      <td>20</td>\n",
       "    </tr>\n",
       "    <tr>\n",
       "      <th>11</th>\n",
       "      <td>Turkey</td>\n",
       "      <td>Turkish Lira(TL)</td>\n",
       "      <td>34</td>\n",
       "    </tr>\n",
       "    <tr>\n",
       "      <th>12</th>\n",
       "      <td>UAE</td>\n",
       "      <td>Emirati Diram(AED)</td>\n",
       "      <td>60</td>\n",
       "    </tr>\n",
       "    <tr>\n",
       "      <th>13</th>\n",
       "      <td>United Kingdom</td>\n",
       "      <td>Pounds(£)</td>\n",
       "      <td>80</td>\n",
       "    </tr>\n",
       "    <tr>\n",
       "      <th>14</th>\n",
       "      <td>United States</td>\n",
       "      <td>Dollar($)</td>\n",
       "      <td>434</td>\n",
       "    </tr>\n",
       "  </tbody>\n",
       "</table>\n",
       "</div>"
      ],
      "text/plain": [
       "           Country                Currency     0\n",
       "0        Australia               Dollar($)    24\n",
       "1           Brazil      Brazilian Real(R$)    60\n",
       "2           Canada               Dollar($)     4\n",
       "3            India      Indian Rupees(Rs.)  8652\n",
       "4        Indonesia  Indonesian Rupiah(IDR)    21\n",
       "5      New Zealand           NewZealand($)    40\n",
       "6      Phillipines        Botswana Pula(P)    22\n",
       "7            Qatar         Qatari Rial(QR)    20\n",
       "8        Singapore               Dollar($)    20\n",
       "9     South Africa                 Rand(R)    60\n",
       "10       Sri Lanka   Sri Lankan Rupee(LKR)    20\n",
       "11          Turkey        Turkish Lira(TL)    34\n",
       "12             UAE      Emirati Diram(AED)    60\n",
       "13  United Kingdom              Pounds(£)    80\n",
       "14   United States               Dollar($)   434"
      ]
     },
<<<<<<< HEAD
     "execution_count": 32,
=======
     "execution_count": 140,
>>>>>>> 8089eef6997c8711983a2cd9d95bee69680bd6c9
     "metadata": {},
     "output_type": "execute_result"
    }
   ],
   "source": [
    "final_df[['Country', 'Currency']].groupby(['Country', 'Currency']).size().reset_index()"
   ]
  },
  {
   "cell_type": "code",
<<<<<<< HEAD
   "execution_count": 33,
=======
   "execution_count": 143,
>>>>>>> 8089eef6997c8711983a2cd9d95bee69680bd6c9
   "id": "9e47a060",
   "metadata": {},
   "outputs": [
    {
     "data": {
      "text/html": [
       "<div>\n",
       "<style scoped>\n",
       "    .dataframe tbody tr th:only-of-type {\n",
       "        vertical-align: middle;\n",
       "    }\n",
       "\n",
       "    .dataframe tbody tr th {\n",
       "        vertical-align: top;\n",
       "    }\n",
       "\n",
       "    .dataframe thead th {\n",
       "        text-align: right;\n",
       "    }\n",
       "</style>\n",
       "<table border=\"1\" class=\"dataframe\">\n",
       "  <thead>\n",
       "    <tr style=\"text-align: right;\">\n",
       "      <th></th>\n",
       "      <th>Has Online delivery</th>\n",
       "      <th>Country</th>\n",
       "      <th>0</th>\n",
       "    </tr>\n",
       "  </thead>\n",
       "  <tbody>\n",
       "    <tr>\n",
       "      <th>0</th>\n",
       "      <td>No</td>\n",
       "      <td>Australia</td>\n",
       "      <td>24</td>\n",
       "    </tr>\n",
       "    <tr>\n",
       "      <th>1</th>\n",
       "      <td>No</td>\n",
       "      <td>Brazil</td>\n",
       "      <td>60</td>\n",
       "    </tr>\n",
       "    <tr>\n",
       "      <th>2</th>\n",
       "      <td>No</td>\n",
       "      <td>Canada</td>\n",
       "      <td>4</td>\n",
       "    </tr>\n",
       "    <tr>\n",
       "      <th>3</th>\n",
       "      <td>No</td>\n",
       "      <td>India</td>\n",
       "      <td>6229</td>\n",
       "    </tr>\n",
       "    <tr>\n",
       "      <th>4</th>\n",
       "      <td>No</td>\n",
       "      <td>Indonesia</td>\n",
       "      <td>21</td>\n",
       "    </tr>\n",
       "    <tr>\n",
       "      <th>5</th>\n",
       "      <td>No</td>\n",
       "      <td>New Zealand</td>\n",
       "      <td>40</td>\n",
       "    </tr>\n",
       "    <tr>\n",
       "      <th>6</th>\n",
       "      <td>No</td>\n",
       "      <td>Phillipines</td>\n",
       "      <td>22</td>\n",
       "    </tr>\n",
       "    <tr>\n",
       "      <th>7</th>\n",
       "      <td>No</td>\n",
       "      <td>Qatar</td>\n",
       "      <td>20</td>\n",
       "    </tr>\n",
       "    <tr>\n",
       "      <th>8</th>\n",
       "      <td>No</td>\n",
       "      <td>Singapore</td>\n",
       "      <td>20</td>\n",
       "    </tr>\n",
       "    <tr>\n",
       "      <th>9</th>\n",
       "      <td>No</td>\n",
       "      <td>South Africa</td>\n",
       "      <td>60</td>\n",
       "    </tr>\n",
       "    <tr>\n",
       "      <th>10</th>\n",
       "      <td>No</td>\n",
       "      <td>Sri Lanka</td>\n",
       "      <td>20</td>\n",
       "    </tr>\n",
       "    <tr>\n",
       "      <th>11</th>\n",
       "      <td>No</td>\n",
       "      <td>Turkey</td>\n",
       "      <td>34</td>\n",
       "    </tr>\n",
       "    <tr>\n",
       "      <th>12</th>\n",
       "      <td>No</td>\n",
       "      <td>UAE</td>\n",
       "      <td>32</td>\n",
       "    </tr>\n",
       "    <tr>\n",
       "      <th>13</th>\n",
       "      <td>No</td>\n",
       "      <td>United Kingdom</td>\n",
       "      <td>80</td>\n",
       "    </tr>\n",
       "    <tr>\n",
       "      <th>14</th>\n",
       "      <td>No</td>\n",
       "      <td>United States</td>\n",
       "      <td>434</td>\n",
       "    </tr>\n",
       "    <tr>\n",
       "      <th>15</th>\n",
       "      <td>Yes</td>\n",
       "      <td>India</td>\n",
       "      <td>2423</td>\n",
       "    </tr>\n",
       "    <tr>\n",
       "      <th>16</th>\n",
       "      <td>Yes</td>\n",
       "      <td>UAE</td>\n",
       "      <td>28</td>\n",
       "    </tr>\n",
       "  </tbody>\n",
       "</table>\n",
       "</div>"
      ],
      "text/plain": [
       "   Has Online delivery         Country     0\n",
       "0                   No       Australia    24\n",
       "1                   No          Brazil    60\n",
       "2                   No          Canada     4\n",
       "3                   No           India  6229\n",
       "4                   No       Indonesia    21\n",
       "5                   No     New Zealand    40\n",
       "6                   No     Phillipines    22\n",
       "7                   No           Qatar    20\n",
       "8                   No       Singapore    20\n",
       "9                   No    South Africa    60\n",
       "10                  No       Sri Lanka    20\n",
       "11                  No          Turkey    34\n",
       "12                  No             UAE    32\n",
       "13                  No  United Kingdom    80\n",
       "14                  No   United States   434\n",
       "15                 Yes           India  2423\n",
       "16                 Yes             UAE    28"
      ]
     },
<<<<<<< HEAD
     "execution_count": 33,
=======
     "execution_count": 143,
>>>>>>> 8089eef6997c8711983a2cd9d95bee69680bd6c9
     "metadata": {},
     "output_type": "execute_result"
    }
   ],
   "source": [
    "final_df[['Has Online delivery', 'Country']].groupby(['Has Online delivery', 'Country']).size().reset_index()"
   ]
  },
  {
   "cell_type": "code",
<<<<<<< HEAD
   "execution_count": 34,
=======
   "execution_count": 144,
>>>>>>> 8089eef6997c8711983a2cd9d95bee69680bd6c9
   "id": "0da4a010",
   "metadata": {},
   "outputs": [
    {
     "data": {
      "text/plain": [
       "India    2423\n",
       "UAE        28\n",
       "Name: Country, dtype: int64"
      ]
     },
<<<<<<< HEAD
     "execution_count": 34,
=======
     "execution_count": 144,
>>>>>>> 8089eef6997c8711983a2cd9d95bee69680bd6c9
     "metadata": {},
     "output_type": "execute_result"
    }
   ],
   "source": [
    "final_df[final_df['Has Online delivery']=='Yes'].Country.value_counts()"
   ]
  },
  {
   "cell_type": "markdown",
   "id": "2061a062",
   "metadata": {},
   "source": [
    "Observations:\n",
    "\n",
    "1. Online Diliveries are available in India and UAE"
   ]
  },
  {
   "cell_type": "code",
<<<<<<< HEAD
   "execution_count": 35,
=======
   "execution_count": 145,
>>>>>>> 8089eef6997c8711983a2cd9d95bee69680bd6c9
   "id": "deecf39a",
   "metadata": {},
   "outputs": [
    {
     "data": {
      "text/plain": [
       "Index(['Restaurant ID', 'Restaurant Name', 'Country Code', 'City', 'Address',\n",
       "       'Locality', 'Locality Verbose', 'Longitude', 'Latitude', 'Cuisines',\n",
       "       'Average Cost for two', 'Currency', 'Has Table booking',\n",
       "       'Has Online delivery', 'Is delivering now', 'Switch to order menu',\n",
       "       'Price range', 'Aggregate rating', 'Rating color', 'Rating text',\n",
       "       'Votes', 'Country'],\n",
       "      dtype='object')"
      ]
     },
<<<<<<< HEAD
     "execution_count": 35,
=======
     "execution_count": 145,
>>>>>>> 8089eef6997c8711983a2cd9d95bee69680bd6c9
     "metadata": {},
     "output_type": "execute_result"
    }
   ],
   "source": [
    "final_df.columns"
   ]
  },
  {
   "cell_type": "code",
<<<<<<< HEAD
   "execution_count": 36,
=======
   "execution_count": 148,
>>>>>>> 8089eef6997c8711983a2cd9d95bee69680bd6c9
   "id": "b51e7fae",
   "metadata": {},
   "outputs": [],
   "source": [
    "city_values = final_df.City.value_counts().values\n",
    "city_labels = final_df.City.value_counts().index"
   ]
  },
  {
   "cell_type": "code",
<<<<<<< HEAD
   "execution_count": 37,
=======
   "execution_count": 152,
>>>>>>> 8089eef6997c8711983a2cd9d95bee69680bd6c9
   "id": "29505b59",
   "metadata": {},
   "outputs": [
    {
     "data": {
      "text/plain": [
       "Index(['New Delhi', 'Gurgaon', 'Noida', 'Faridabad', 'Ghaziabad'], dtype='object')"
      ]
     },
<<<<<<< HEAD
     "execution_count": 37,
=======
     "execution_count": 152,
>>>>>>> 8089eef6997c8711983a2cd9d95bee69680bd6c9
     "metadata": {},
     "output_type": "execute_result"
    }
   ],
   "source": [
    "city_labels[:5]"
   ]
  },
  {
   "cell_type": "code",
<<<<<<< HEAD
   "execution_count": 38,
=======
   "execution_count": 156,
>>>>>>> 8089eef6997c8711983a2cd9d95bee69680bd6c9
   "id": "617c989c",
   "metadata": {},
   "outputs": [
    {
     "data": {
<<<<<<< HEAD
      "image/png": "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",
=======
      "image/png": "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\n",
>>>>>>> 8089eef6997c8711983a2cd9d95bee69680bd6c9
      "text/plain": [
       "<Figure size 640x480 with 1 Axes>"
      ]
     },
     "metadata": {},
     "output_type": "display_data"
    }
   ],
   "source": [
    "plt.pie(city_values[:5], labels=city_labels[:5], autopct ='%1.2f%%')\n",
    "plt.show()"
   ]
  },
  {
   "cell_type": "markdown",
   "id": "322c9f51",
   "metadata": {},
   "source": [
    "Observation:\n",
    "\n",
    "1. Maximum number of transactions are from new delhi"
   ]
  },
  {
   "cell_type": "code",
<<<<<<< HEAD
   "execution_count": 39,
=======
   "execution_count": 162,
>>>>>>> 8089eef6997c8711983a2cd9d95bee69680bd6c9
   "id": "e9ea81a9",
   "metadata": {},
   "outputs": [
    {
     "data": {
      "text/plain": [
       "0             French, Japanese, Desserts\n",
       "1                               Japanese\n",
       "2       Seafood, Asian, Filipino, Indian\n",
       "3                        Japanese, Sushi\n",
       "4                       Japanese, Korean\n",
       "                      ...               \n",
       "9546                             Turkish\n",
       "9547     World Cuisine, Patisserie, Cafe\n",
       "9548              Italian, World Cuisine\n",
       "9549                     Restaurant Cafe\n",
       "9550                                Cafe\n",
       "Name: Cuisines, Length: 9551, dtype: object"
      ]
     },
<<<<<<< HEAD
     "execution_count": 39,
=======
     "execution_count": 162,
>>>>>>> 8089eef6997c8711983a2cd9d95bee69680bd6c9
     "metadata": {},
     "output_type": "execute_result"
    }
   ],
   "source": [
    "final_df['Cuisines']"
   ]
  },
  {
   "cell_type": "code",
<<<<<<< HEAD
   "execution_count": 40,
=======
   "execution_count": 163,
>>>>>>> 8089eef6997c8711983a2cd9d95bee69680bd6c9
   "id": "59c6ff12",
   "metadata": {},
   "outputs": [
    {
     "name": "stdout",
     "output_type": "stream",
     "text": [
      "Top 10 cuisines:\n",
      "North Indian    3960\n",
      "Chinese         2735\n",
      "Fast Food       1986\n",
      "Mughlai          995\n",
      "Italian          764\n",
      "Bakery           745\n",
      "Continental      736\n",
      "Cafe             703\n",
      "Desserts         653\n",
      "South Indian     636\n",
      "dtype: int64\n"
     ]
    }
   ],
   "source": [
    "top_10_cuisines = final_df['Cuisines'].str.split(', ', expand=True).stack().value_counts().head(10)\n",
    "\n",
    "# Displaying the top 10 cuisines\n",
    "print(\"Top 10 cuisines:\")\n",
    "print(top_10_cuisines)"
   ]
  },
  {
   "cell_type": "code",
<<<<<<< HEAD
   "execution_count": 41,
=======
   "execution_count": 165,
>>>>>>> 8089eef6997c8711983a2cd9d95bee69680bd6c9
   "id": "c7cbfef3",
   "metadata": {},
   "outputs": [
    {
     "data": {
      "text/plain": [
       "North Indian                      936\n",
       "North Indian, Chinese             511\n",
       "Chinese                           354\n",
       "Fast Food                         354\n",
       "North Indian, Mughlai             334\n",
       "Cafe                              299\n",
       "Bakery                            218\n",
       "North Indian, Mughlai, Chinese    197\n",
       "Bakery, Desserts                  170\n",
       "Street Food                       149\n",
       "Name: Cuisines, dtype: int64"
      ]
     },
<<<<<<< HEAD
     "execution_count": 41,
=======
     "execution_count": 165,
>>>>>>> 8089eef6997c8711983a2cd9d95bee69680bd6c9
     "metadata": {},
     "output_type": "execute_result"
    }
   ],
   "source": [
    "final_df['Cuisines'].value_counts().head(10)"
   ]
  },
  {
   "cell_type": "code",
<<<<<<< HEAD
   "execution_count": 42,
=======
   "execution_count": 166,
>>>>>>> 8089eef6997c8711983a2cd9d95bee69680bd6c9
   "id": "fbd9e210",
   "metadata": {},
   "outputs": [
    {
     "data": {
      "text/plain": [
       "Cafe, Pizza, Burger                                                       1\n",
       "Healthy Food, Continental, Juices, Beverages, Italian, Salad, Lebanese    1\n",
       "Goan, American, Portuguese                                                1\n",
       "South Indian, Desserts, Beverages                                         1\n",
       "Healthy Food, North Indian, Italian, Salad                                1\n",
       "Bengali, Fast Food                                                        1\n",
       "North Indian, Rajasthani, Asian                                           1\n",
       "Chinese, Thai, Malaysian, Indonesian                                      1\n",
       "Bakery, Desserts, North Indian, Bengali, South Indian                     1\n",
       "Italian, World Cuisine                                                    1\n",
       "Name: Cuisines, dtype: int64"
      ]
     },
<<<<<<< HEAD
     "execution_count": 42,
=======
     "execution_count": 166,
>>>>>>> 8089eef6997c8711983a2cd9d95bee69680bd6c9
     "metadata": {},
     "output_type": "execute_result"
    }
   ],
   "source": [
    "final_df['Cuisines'].value_counts().tail(10)"
   ]
  },
  {
   "cell_type": "code",
<<<<<<< HEAD
   "execution_count": 43,
=======
   "execution_count": 169,
>>>>>>> 8089eef6997c8711983a2cd9d95bee69680bd6c9
   "id": "a8e84e2f",
   "metadata": {},
   "outputs": [
    {
     "name": "stdout",
     "output_type": "stream",
     "text": [
      "Durban            1\n",
      "Bubble Tea        1\n",
      "Canadian          1\n",
      "Peranakan         1\n",
      "Malay             1\n",
      "Fish and Chips    1\n",
      "Malwani           1\n",
      "Cuisine Varies    1\n",
      "Soul Food         1\n",
      "Bí_rek            1\n",
      "dtype: int64\n"
     ]
    }
   ],
   "source": [
    "Bottom_10_cuisines = final_df['Cuisines'].str.split(', ', expand=True).stack().value_counts().tail(10)\n",
    "print(Bottom_10_cuisines)"
   ]
<<<<<<< HEAD
  },
  {
   "cell_type": "code",
   "execution_count": 44,
   "id": "e70e4572-2f79-4c20-8a93-22b003b806f7",
   "metadata": {},
   "outputs": [],
   "source": [
    "import dtale\n",
    "import pandas as pd\n",
    "import numpy as np\n",
    "import seaborn as sns"
   ]
  },
  {
   "cell_type": "code",
   "execution_count": 48,
   "id": "f7e7e55e-cf5a-40e5-b1e6-21f0ed6875ad",
   "metadata": {},
   "outputs": [
    {
     "name": "stderr",
     "output_type": "stream",
     "text": [
      "C:\\Users\\rajgu\\AppData\\Local\\Packages\\PythonSoftwareFoundation.Python.3.11_qbz5n2kfra8p0\\LocalCache\\local-packages\\Python311\\site-packages\\dtale\\views.py:798: FutureWarning:\n",
      "\n",
      "['Cuisines'] did not aggregate successfully. If any error is raised this will raise in a future version of pandas. Drop these columns/ops to avoid this warning.\n",
      "\n"
     ]
    },
    {
     "data": {
      "text/html": [
       "\n",
       "        <iframe\n",
       "            width=\"100%\"\n",
       "            height=\"475\"\n",
       "            src=\"http://hp:40000/dtale/iframe/3\"\n",
       "            frameborder=\"0\"\n",
       "            allowfullscreen\n",
       "            \n",
       "        ></iframe>\n",
       "        "
      ],
      "text/plain": [
       "<IPython.lib.display.IFrame at 0x1c0e76edbd0>"
      ]
     },
     "metadata": {},
     "output_type": "display_data"
    },
    {
     "data": {
      "text/plain": []
     },
     "execution_count": 48,
     "metadata": {},
     "output_type": "execute_result"
    }
   ],
   "source": [
    "dtale.show(df)"
   ]
=======
>>>>>>> 8089eef6997c8711983a2cd9d95bee69680bd6c9
  }
 ],
 "metadata": {
  "kernelspec": {
   "display_name": "Python 3 (ipykernel)",
   "language": "python",
   "name": "python3"
  },
  "language_info": {
   "codemirror_mode": {
    "name": "ipython",
    "version": 3
   },
   "file_extension": ".py",
   "mimetype": "text/x-python",
   "name": "python",
   "nbconvert_exporter": "python",
   "pygments_lexer": "ipython3",
<<<<<<< HEAD
   "version": "3.11.8"
=======
   "version": "3.9.13"
>>>>>>> 8089eef6997c8711983a2cd9d95bee69680bd6c9
  }
 },
 "nbformat": 4,
 "nbformat_minor": 5
}
